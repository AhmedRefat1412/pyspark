{
 "cells": [
  {
   "cell_type": "code",
   "execution_count": 1,
   "id": "4127e440",
   "metadata": {},
   "outputs": [
    {
     "name": "stderr",
     "output_type": "stream",
     "text": [
      "WARNING: Using incubator modules: jdk.incubator.vector\n",
      "Using Spark's default log4j profile: org/apache/spark/log4j2-defaults.properties\n",
      "25/10/23 23:56:05 WARN Utils: Your hostname, ahmed-refat-VirtualBox, resolves to a loopback address: 127.0.1.1; using 10.0.2.15 instead (on interface enp0s3)\n",
      "25/10/23 23:56:06 WARN Utils: Set SPARK_LOCAL_IP if you need to bind to another address\n",
      "Using Spark's default log4j profile: org/apache/spark/log4j2-defaults.properties\n",
      "Setting default log level to \"WARN\".\n",
      "To adjust logging level use sc.setLogLevel(newLevel). For SparkR, use setLogLevel(newLevel).\n",
      "25/10/23 23:56:18 WARN NativeCodeLoader: Unable to load native-hadoop library for your platform... using builtin-java classes where applicable\n"
     ]
    }
   ],
   "source": [
    "import findspark\n",
    "findspark.init()\n",
    "from pyspark.sql import SparkSession\n",
    "\n",
    "spark=SparkSession.builder.getOrCreate()\n",
    "\n",
    "\n",
    "# to display noteboke cell with harizontal scroll bar \n",
    "from IPython.display import display_html\n",
    "\n",
    "\n"
   ]
  },
  {
   "cell_type": "code",
   "execution_count": null,
   "id": "2aa07d1a",
   "metadata": {},
   "outputs": [
    {
     "name": "stderr",
     "output_type": "stream",
     "text": [
      "                                                                                \r"
     ]
    },
    {
     "name": "stdout",
     "output_type": "stream",
     "text": [
      "+---+-----+-------+----------------------+----------+----+---------------+\n",
      "|id |first|last   |url                   |published |hits|campaigns      |\n",
      "+---+-----+-------+----------------------+----------+----+---------------+\n",
      "|1  |Ahmed|Refat  |https://ahmedrefat.com|2023-05-01|1200|Summer Campaign|\n",
      "|2  |Mona |NULL   |https://monakhaled.net|NULL      |900 |Spring Campaign|\n",
      "|3  |NULL |Sami   |NULL                  |2023-07-20|NULL|Back to School |\n",
      "|4  |Sara |Mostafa|https://saramostafa.io|2023-08-12|3200|NULL           |\n",
      "|5  |Hany |Ali    |NULL                  |2023-09-01|1800|Winter Launch  |\n",
      "|6  |NULL |Fathy  |https://norafathy.me  |2023-09-20|2600|Autumn Ads     |\n",
      "+---+-----+-------+----------------------+----------+----+---------------+\n",
      "\n"
     ]
    }
   ],
   "source": [
    "from pyspark.sql import functions as fn\n",
    "from pyspark.sql.types import StructType, StructField, IntegerType, StringType, DateType, LongType\n",
    "\n",
    "spark = SparkSession.builder.appName(\"Dataset Example\").getOrCreate()\n",
    "\n",
    "\n",
    "data = [\n",
    "    (1, \"Ahmed\", \"Refat\", \"https://ahmedrefat.com\", \"2023-05-01\", 1200, \"Summer Campaign\"),\n",
    "    (2, \"Mona\", None, \"https://monakhaled.net\", None, 900, \"Spring Campaign\"),\n",
    "    (3, None, \"Sami\", None, \"2023-07-20\", None, \"Back to School\"),\n",
    "    (4, \"Sara\", \"Mostafa\", \"https://saramostafa.io\", \"2023-08-12\", 3200, None),\n",
    "    (5, \"Hany\", \"Ali\", None, \"2023-09-01\", 1800, \"Winter Launch\"),\n",
    "    (6, None, \"Fathy\", \"https://norafathy.me\", \"2023-09-20\", 2600, \"Autumn Ads\")\n",
    "]\n",
    "schema = StructType([\n",
    "    StructField(\"id\", IntegerType(), True), # يعني عادي تنفع تبقا ب نل او تتكرر\n",
    "    StructField(\"first\", StringType(), True),\n",
    "    StructField(\"last\", StringType(), True),\n",
    "    StructField(\"url\", StringType(), True),\n",
    "    StructField(\"published\", StringType(), True),   # ممكن نخليها DateType كمان\n",
    "    StructField(\"hits\", LongType(), True),\n",
    "    StructField(\"campaigns\", StringType(), True)\n",
    "])\n",
    "\n",
    "df = spark.createDataFrame(data, schema=schema)\n",
    "df.show(truncate=False)\n",
    "#df.printSchema()\n",
    "\n"
   ]
  },
  {
   "cell_type": "markdown",
   "id": "38246d15",
   "metadata": {},
   "source": [
    "احنا عملنا عمليه بناء ل الداتا فريم وحددنا الاسكيما بتعتها  بس دلوقتي عندنا في قيم مش مضبوطه وفي قيم فاضيه \n",
    "هنحاول اننا نعالج كل الموضوع ده بكل الطرق والامكانيات المتاحه "
   ]
  },
  {
   "cell_type": "code",
   "execution_count": 15,
   "id": "3f619812",
   "metadata": {},
   "outputs": [
    {
     "name": "stdout",
     "output_type": "stream",
     "text": [
      "+---+-----+----+---+---------+----+---------+\n",
      "| id|first|last|url|published|hits|campaigns|\n",
      "+---+-----+----+---+---------+----+---------+\n",
      "|  0|    2|   1|  2|        1|   1|        1|\n",
      "+---+-----+----+---+---------+----+---------+\n",
      "\n",
      "+---+-----+-----+--------------------+----------+----+---------------+\n",
      "| id|first| last|                 url| published|hits|      campaigns|\n",
      "+---+-----+-----+--------------------+----------+----+---------------+\n",
      "|  1|Ahmed|Refat|https://ahmedrefa...|2023-05-01|1200|Summer Campaign|\n",
      "+---+-----+-----+--------------------+----------+----+---------------+\n",
      "\n"
     ]
    }
   ],
   "source": [
    "# كود معرفه عدد النل في كل عمود\n",
    "\n",
    "df.select([fn.count(fn.when(fn.col(c).isNull(), c)).alias(c) for c in df.columns]).show()\n",
    "\n",
    "# معني الكود الي جي انك تحذف اي صف في قيم نل في اي مكان \n",
    "df.dropna().show()\n"
   ]
  },
  {
   "cell_type": "code",
   "execution_count": null,
   "id": "43c0ec6b",
   "metadata": {},
   "outputs": [
    {
     "name": "stdout",
     "output_type": "stream",
     "text": [
      "+---+-----+-------+--------------------+----------+----+---------------+\n",
      "| id|first|   last|                 url| published|hits|      campaigns|\n",
      "+---+-----+-------+--------------------+----------+----+---------------+\n",
      "|  1|Ahmed|  Refat|https://ahmedrefa...|2023-05-01|1200|Summer Campaign|\n",
      "|  4| Sara|Mostafa|https://saramosta...|2023-08-12|3200|           NULL|\n",
      "|  5| Hany|    Ali|                NULL|2023-09-01|1800|  Winter Launch|\n",
      "+---+-----+-------+--------------------+----------+----+---------------+\n",
      "\n"
     ]
    }
   ],
   "source": [
    "# الكود ده هيحذف كل القيم الفاضيه في اعمده معينه فقط\n",
    "df.dropna(subset=[\"first\",\"last\"]).show()\n",
    "\n",
    "\n",
    "# احذف الصفوف اللي فيها أي Null (ده الافتراضي)\n",
    "df.dropna(how='any').show()\n",
    "\n",
    "# احذف الصفوف اللي كلها Null\n",
    "df.dropna(how='all').show()\n",
    "\n",
    "# احذف الصفوف اللي فيها Null في 2 أو أكتر من الأعمدة\n",
    "df.dropna(thresh=5).show()\n",
    "\n"
   ]
  },
  {
   "cell_type": "code",
   "execution_count": 18,
   "id": "74e945cd",
   "metadata": {},
   "outputs": [
    {
     "name": "stdout",
     "output_type": "stream",
     "text": [
      "+---+-----+-------+--------------------+----------+----+---------------+\n",
      "| id|first|   last|                 url| published|hits|      campaigns|\n",
      "+---+-----+-------+--------------------+----------+----+---------------+\n",
      "|  1|Ahmed|  Refat|https://ahmedrefa...|2023-05-01|1200|Summer Campaign|\n",
      "|  2| Mona|   last|https://monakhale...|      NULL| 900|Spring Campaign|\n",
      "|  3|first|   Sami|                NULL|2023-07-20|   0| Back to School|\n",
      "|  4| Sara|Mostafa|https://saramosta...|2023-08-12|3200|           NULL|\n",
      "|  5| Hany|    Ali|                NULL|2023-09-01|1800|  Winter Launch|\n",
      "|  6|first|  Fathy|https://norafathy.me|2023-09-20|2600|     Autumn Ads|\n",
      "+---+-----+-------+--------------------+----------+----+---------------+\n",
      "\n"
     ]
    }
   ],
   "source": [
    "# هنبدء عمليه معالجه القيم الي مهيش موجوده او ب نان\n",
    "\n",
    "# اول حاجه هنعوض مكان كل القيم ب قيمه ثابته الي هي unknown\n",
    "df.fillna(\"unknown\").show\n",
    "\n",
    "\n",
    "# تحديد هنكتب ايه في كل قميه علي حسب العمود \n",
    "df.fillna({\"first\":\"first\",\n",
    "           \"last\" :\"last\",\n",
    "           \"hits\" :0\n",
    "           }).show()"
   ]
  },
  {
   "cell_type": "code",
   "execution_count": 23,
   "id": "d8db623b",
   "metadata": {},
   "outputs": [
    {
     "name": "stderr",
     "output_type": "stream",
     "text": [
      "                                                                                \r"
     ]
    },
    {
     "name": "stdout",
     "output_type": "stream",
     "text": [
      "+---+-----+-------+--------------------+----------+----+---------------+\n",
      "| id|first|   last|                 url| published|hits|      campaigns|\n",
      "+---+-----+-------+--------------------+----------+----+---------------+\n",
      "|  1|Ahmed|  Refat|https://ahmedrefa...|2023-05-01|1200|Summer Campaign|\n",
      "|  2| Mona|   NULL|https://monakhale...|      NULL| 900|Spring Campaign|\n",
      "|  3| NULL|   Sami|                NULL|2023-07-20|1940| Back to School|\n",
      "|  4| Sara|Mostafa|https://saramosta...|2023-08-12|3200|           NULL|\n",
      "|  5| Hany|    Ali|                NULL|2023-09-01|1800|  Winter Launch|\n",
      "|  6| NULL|  Fathy|https://norafathy.me|2023-09-20|2600|     Autumn Ads|\n",
      "+---+-----+-------+--------------------+----------+----+---------------+\n",
      "\n"
     ]
    }
   ],
   "source": [
    "# ممكن نعوض مكان قيم ارقام ب المتوسط \n",
    "df_avg = df.select(fn.avg(\"hits\")).collect()[0][0]\n",
    "\n",
    "df.fillna({\"hits\":df_avg}).show()"
   ]
  },
  {
   "cell_type": "code",
   "execution_count": null,
   "id": "7643983e",
   "metadata": {},
   "outputs": [],
   "source": [
    "# الهدف نملي مكان url  بكلمه غير معروفه ولو كانت موجوده تتحط وهكذا في الهيتس بس هنحط قيمه النن ب 0\n",
    "\n",
    "df = df.withColumn(\n",
    "    \"url\",\n",
    "    fn.when(fn.col(\"url\").isNull(), \"unknown.com\").otherwise(fn.col(\"url\"))\n",
    ")\n",
    "\n",
    "df = df.withColumn(\n",
    "    \"hits\",\n",
    "    fn.when(fn.col(\"hits\").isNull(), fn.lit(0)).otherwise(fn.col(\"hits\"))\n",
    ")\n",
    "\n",
    "df.show()\n"
   ]
  }
 ],
 "metadata": {
  "kernelspec": {
   "display_name": "pyspark_env",
   "language": "python",
   "name": "python3"
  },
  "language_info": {
   "codemirror_mode": {
    "name": "ipython",
    "version": 3
   },
   "file_extension": ".py",
   "mimetype": "text/x-python",
   "name": "python",
   "nbconvert_exporter": "python",
   "pygments_lexer": "ipython3",
   "version": "3.10.18"
  }
 },
 "nbformat": 4,
 "nbformat_minor": 5
}
