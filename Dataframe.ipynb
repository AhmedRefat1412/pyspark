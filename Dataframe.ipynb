{
 "cells": [
  {
   "cell_type": "markdown",
   "id": "4d423d72",
   "metadata": {},
   "source": [
    "اشهر اربع مكتبات في spark\n",
    "---------------------------------\n",
    "\n",
    "1. spark sql :- data stucture by sql لمعالجه البيانات المهيكله     \n",
    "2. spark streaming :-  to provess the flow of the data in the real time streaming\n",
    "3. MLlib :- to machine learning that built in spark \n",
    "4. GraphX :-  to process and anlysis the data in graph form "
   ]
  },
  {
   "cell_type": "code",
   "execution_count": 3,
   "id": "b58ba69c",
   "metadata": {},
   "outputs": [
    {
     "name": "stderr",
     "output_type": "stream",
     "text": [
      "WARNING: Using incubator modules: jdk.incubator.vector\n",
      "Using Spark's default log4j profile: org/apache/spark/log4j2-defaults.properties\n",
      "25/10/22 00:50:29 WARN Utils: Your hostname, ahmed-refat-VirtualBox, resolves to a loopback address: 127.0.1.1; using 10.0.2.15 instead (on interface enp0s3)\n",
      "25/10/22 00:50:29 WARN Utils: Set SPARK_LOCAL_IP if you need to bind to another address\n",
      "Using Spark's default log4j profile: org/apache/spark/log4j2-defaults.properties\n",
      "Setting default log level to \"WARN\".\n",
      "To adjust logging level use sc.setLogLevel(newLevel). For SparkR, use setLogLevel(newLevel).\n",
      "25/10/22 00:50:37 WARN NativeCodeLoader: Unable to load native-hadoop library for your platform... using builtin-java classes where applicable\n",
      "                                                                                \r"
     ]
    },
    {
     "data": {
      "text/plain": [
       "[('Brooke', 20),\n",
       " ('Denny', 31),\n",
       " ('Jules', 30),\n",
       " ('TD', 35),\n",
       " ('Brooke', 25),\n",
       " ('Jules', 30),\n",
       " ('Denny', 51),\n",
       " ('TD', 15)]"
      ]
     },
     "execution_count": 3,
     "metadata": {},
     "output_type": "execute_result"
    }
   ],
   "source": [
    "import findspark\n",
    "findspark.init()\n",
    "from pyspark.sql import SparkSession \n",
    "spark = SparkSession.builder.getOrCreate()\n",
    "\n",
    "sc= spark.sparkContext\n",
    "#RDD\n",
    "dataRDD= sc.parallelize([(\"Brooke\",20),(\"Denny\",31),(\"Jules\",30),(\"TD\",35),(\"Brooke\",25),(\"Jules\",30),(\"Denny\",51),(\"TD\",15)])\n",
    "\n",
    "dataRDD.collect()"
   ]
  },
  {
   "cell_type": "code",
   "execution_count": 2,
   "id": "8020e6c4",
   "metadata": {},
   "outputs": [
    {
     "name": "stderr",
     "output_type": "stream",
     "text": [
      "                                                                                \r"
     ]
    },
    {
     "name": "stdout",
     "output_type": "stream",
     "text": [
      "+------+---+\n",
      "|  name|age|\n",
      "+------+---+\n",
      "|Brooke| 20|\n",
      "| Denny| 31|\n",
      "| Jules| 30|\n",
      "|    TD| 35|\n",
      "|Brooke| 25|\n",
      "+------+---+\n",
      "only showing top 5 rows\n"
     ]
    },
    {
     "data": {
      "text/plain": [
       "'Brooke'"
      ]
     },
     "execution_count": 2,
     "metadata": {},
     "output_type": "execute_result"
    }
   ],
   "source": [
    "data_frame= spark.createDataFrame([(\"Brooke\",20),(\"Denny\",31),(\"Jules\",30),(\"TD\",35),\n",
    "(\"Brooke\",25),(\"Jules\",30),(\"Denny\",51),(\"TD\",15)],[\"name\",\"age\"])\n",
    "\n",
    "#data_frame.printSchema()\n",
    "#data_frame.show()  \n",
    "data_frame.show(5)  \n",
    "r=data_frame.collect()[0]\n",
    "r.name"
   ]
  },
  {
   "cell_type": "code",
   "execution_count": 5,
   "id": "cb06e2e4",
   "metadata": {},
   "outputs": [
    {
     "name": "stderr",
     "output_type": "stream",
     "text": [
      "                                                                                \r"
     ]
    },
    {
     "name": "stdout",
     "output_type": "stream",
     "text": [
      "+------+--------+\n",
      "|  name|avg(age)|\n",
      "+------+--------+\n",
      "|Brooke|    22.5|\n",
      "| Jules|    30.0|\n",
      "|    TD|    25.0|\n",
      "| Denny|    41.0|\n",
      "+------+--------+\n",
      "\n"
     ]
    },
    {
     "name": "stderr",
     "output_type": "stream",
     "text": [
      "                                                                                \r"
     ]
    },
    {
     "data": {
      "text/plain": [
       "[Row(name='Brooke', avg(age)=22.5), Row(name='Jules', avg(age)=30.0)]"
      ]
     },
     "execution_count": 5,
     "metadata": {},
     "output_type": "execute_result"
    }
   ],
   "source": [
    "# استخدام group by عشان اعمل متوسط عن طريق العمر \n",
    " \n",
    "avg_age=data_frame.groupBy('name').avg('age')\n",
    "avg_age.show()\n",
    "\n",
    "# عشان اعرف عدد البرتشننز الي هو 1 بس \n",
    "avg_age.rdd.getNumPartitions() # فوق كان في 2 بارتشن بس هنا 1 بس لانه عمل جروب باي يعني عمل شفل بين الي فوق عشان يطلع ببرتشن واحد بس \n",
    "\n",
    "avg_age.head(2)\n"
   ]
  },
  {
   "cell_type": "markdown",
   "id": "150207c5",
   "metadata": {},
   "source": [
    "agg function \n",
    "------------"
   ]
  },
  {
   "cell_type": "code",
   "execution_count": null,
   "id": "f88e3903",
   "metadata": {},
   "outputs": [
    {
     "name": "stderr",
     "output_type": "stream",
     "text": [
      "                                                                                \r"
     ]
    },
    {
     "name": "stdout",
     "output_type": "stream",
     "text": [
      "+-----+----------+------+\n",
      "| name|department|salary|\n",
      "+-----+----------+------+\n",
      "|Ahmed|        IT|  3000|\n",
      "| Sara|        IT|  4000|\n",
      "|  Ali|        HR|  2000|\n",
      "| Mona|        HR|  2500|\n",
      "+-----+----------+------+\n",
      "\n"
     ]
    },
    {
     "name": "stderr",
     "output_type": "stream",
     "text": [
      "                                                                                \r"
     ]
    },
    {
     "name": "stdout",
     "output_type": "stream",
     "text": [
      "+------------+----------+\n",
      "|total_salary|avg_salary|\n",
      "+------------+----------+\n",
      "|       11500|    2875.0|\n",
      "+------------+----------+\n",
      "\n"
     ]
    },
    {
     "name": "stderr",
     "output_type": "stream",
     "text": [
      "[Stage 75:=============================>                            (1 + 1) / 2]\r"
     ]
    },
    {
     "name": "stdout",
     "output_type": "stream",
     "text": [
      "+----------+------------+----------+\n",
      "|department|total_salary|avg_salary|\n",
      "+----------+------------+----------+\n",
      "|        IT|        7000|    3500.0|\n",
      "|        HR|        4500|    2250.0|\n",
      "+----------+------------+----------+\n",
      "\n"
     ]
    },
    {
     "name": "stderr",
     "output_type": "stream",
     "text": [
      "                                                                                \r"
     ]
    }
   ],
   "source": [
    "#يعني اي agg \n",
    "data = [\n",
    "    (\"Ahmed\", \"IT\", 3000),\n",
    "    (\"Sara\", \"IT\", 4000),\n",
    "    (\"Ali\", \"HR\", 2000),\n",
    "    (\"Mona\", \"HR\", 2500)\n",
    "]\n",
    "\n",
    "columns = [\"name\", \"department\", \"salary\"]\n",
    "\n",
    "df = spark.createDataFrame(data, columns)\n",
    "df.show()\n",
    "\n",
    "\n",
    "# تجميع بدون group by\n",
    "from pyspark.sql import functions as F\n",
    "\n",
    "df.agg(\n",
    "    F.sum(\"salary\").alias(\"total_salary\"),\n",
    "    F.avg(\"salary\").alias(\"avg_salary\")\n",
    ").show()\n",
    "\n",
    "\n",
    "# تجميع مع group by \n",
    "df.groupBy(\"department\").agg(\n",
    "    F.sum(\"salary\").alias(\"total_salary\"),\n",
    "    F.avg(\"salary\").alias(\"avg_salary\")\n",
    ").show()\n",
    "\n"
   ]
  },
  {
   "cell_type": "markdown",
   "id": "9fe71550",
   "metadata": {},
   "source": [
    "git data from json file \n",
    "--------------------------"
   ]
  },
  {
   "cell_type": "code",
   "execution_count": 19,
   "id": "1d52a7a0",
   "metadata": {},
   "outputs": [
    {
     "name": "stdout",
     "output_type": "stream",
     "text": [
      "+---+\n",
      "|age|\n",
      "+---+\n",
      "| 34|\n",
      "| 22|\n",
      "+---+\n",
      "\n"
     ]
    }
   ],
   "source": [
    "# import col \n",
    "from pyspark.sql.functions import col \n",
    "\n",
    "\n",
    "df=spark.read.json('/home/ahmed-refat/Downloads/people.json')\n",
    "name=df['name']\n",
    "\n",
    "# استخدام sql statments\n",
    "df.select('name')\n",
    "df_age =df.select('age')\n",
    "\n",
    "# where condition\n",
    "df_age.where(col('age')>20).show()\n"
   ]
  },
  {
   "cell_type": "markdown",
   "id": "cfdade4c",
   "metadata": {},
   "source": [
    "=================================================================================================================="
   ]
  },
  {
   "cell_type": "markdown",
   "id": "6809196b",
   "metadata": {},
   "source": [
    "تجربه التعامل مع داتا فريم كامله \n",
    "------------------------------"
   ]
  },
  {
   "cell_type": "code",
   "execution_count": 2,
   "id": "b76618de",
   "metadata": {},
   "outputs": [],
   "source": [
    "from pyspark.sql.functions import *\n",
    "import pyspark.sql.functions as fn # دي احسن من الي فوق عشان ميبقاش في مضاربه مع البايثون نفسهالا"
   ]
  },
  {
   "cell_type": "code",
   "execution_count": 69,
   "id": "2dc670de",
   "metadata": {},
   "outputs": [
    {
     "name": "stdout",
     "output_type": "stream",
     "text": [
      "+---+-----+-------+-----------+-----+\n",
      "|id |name |salary |department |years|\n",
      "+---+-----+-------+-----------+-----+\n",
      "|1  |Ahmed|25000.0|sales      |2    |\n",
      "|2  |Mona |32000.0|sales      |5    |\n",
      "|3  |Omar |28000.0|engineering|3    |\n",
      "|4  |Sara |40000.0|engineering|7    |\n",
      "|5  |Hany |15000.0|hr         |1    |\n",
      "|6  |Nora |22000.0|hr         |4    |\n",
      "+---+-----+-------+-----------+-----+\n",
      "\n",
      "root\n",
      " |-- id: long (nullable = true)\n",
      " |-- name: string (nullable = true)\n",
      " |-- salary: double (nullable = true)\n",
      " |-- department: string (nullable = true)\n",
      " |-- years: long (nullable = true)\n",
      "\n"
     ]
    }
   ],
   "source": [
    "from pyspark.sql import SparkSession\n",
    "import pyspark.sql.functions as fn\n",
    "\n",
    "spark = SparkSession.builder.appName(\"HandsOnDF\").getOrCreate()\n",
    "\n",
    "data = [\n",
    "    (1, \"Ahmed\", 25000.0, \"sales\", 2),\n",
    "    (2, \"Mona\", 32000.0, \"sales\", 5),\n",
    "    (3, \"Omar\", 28000.0, \"engineering\", 3),\n",
    "    (4, \"Sara\", 40000.0, \"engineering\", 7),\n",
    "    (5, \"Hany\", 15000.0, \"hr\", 1),\n",
    "    (6, \"Nora\", 22000.0, \"hr\", 4)\n",
    "]\n",
    "\n",
    "cols = [\"id\", \"name\", \"salary\", \"department\", \"years\"]\n",
    "\n",
    "df = spark.createDataFrame(data, cols,)\n",
    "df.show(truncate=False) # اعرض كل الداتا من غير متقص حاجه لان غالبا show بتديني اول 20 بس \n",
    "df.printSchema()\n"
   ]
  },
  {
   "cell_type": "code",
   "execution_count": 70,
   "id": "f523a65f",
   "metadata": {},
   "outputs": [
    {
     "name": "stdout",
     "output_type": "stream",
     "text": [
      "+---+-----+-------+-----------+-----+------+----------+----------------+\n",
      "| id| name| salary| department|years| bonus|total_comp|salary_plus_5pct|\n",
      "+---+-----+-------+-----------+-----+------+----------+----------------+\n",
      "|  1|Ahmed|25000.0|      sales|    2|2500.0|   27500.0|         26250.0|\n",
      "|  2| Mona|32000.0|      sales|    5|3200.0|   35200.0|         33600.0|\n",
      "|  3| Omar|28000.0|engineering|    3|2800.0|   30800.0|         29400.0|\n",
      "|  4| Sara|40000.0|engineering|    7|4000.0|   44000.0|         42000.0|\n",
      "|  5| Hany|15000.0|         hr|    1|1500.0|   16500.0|         15750.0|\n",
      "|  6| Nora|22000.0|         hr|    4|2200.0|   24200.0|         23100.0|\n",
      "+---+-----+-------+-----------+-----+------+----------+----------------+\n",
      "\n"
     ]
    }
   ],
   "source": [
    "# Step 1: عمليات حسابية وwithColumn\n",
    "# 1. bonus = 10% of salary\n",
    "df = df.withColumn(\"bonus\", fn.col(\"salary\") * 0.10)\n",
    "\n",
    "# 2. total_comp = salary + bonus\n",
    "df = df.withColumn(\"total_comp\", fn.col(\"salary\") + fn.col(\"bonus\"))\n",
    "\n",
    "# 3. مثال تعديل: زيادة salary بنسبة 5% ثم نحفظه في عمود جديد\n",
    "df = df.withColumn(\"salary_plus_5pct\", fn.col(\"salary\") * 1.05)\n",
    "\n",
    "df.show()\n"
   ]
  },
  {
   "cell_type": "code",
   "execution_count": 71,
   "id": "ea1a830b",
   "metadata": {},
   "outputs": [
    {
     "name": "stderr",
     "output_type": "stream",
     "text": [
      "[Stage 106:>                                                        (0 + 1) / 1]\r"
     ]
    },
    {
     "name": "stdout",
     "output_type": "stream",
     "text": [
      "+---+-----+-------+-----------+-----+------+----------+----------------+------+------+---------+\n",
      "| id| name| salary| department|years| bonus|total_comp|salary_plus_5pct|county| level|   status|\n",
      "+---+-----+-------+-----------+-----+------+----------+----------------+------+------+---------+\n",
      "|  1|Ahmed|25000.0|      sales|    2|2500.0|   27500.0|         26250.0| egypt|junior|   normal|\n",
      "|  2| Mona|32000.0|      sales|    5|3200.0|   35200.0|         33600.0| egypt|senior|top sales|\n",
      "|  3| Omar|28000.0|engineering|    3|2800.0|   30800.0|         29400.0| egypt|junior|   normal|\n",
      "|  4| Sara|40000.0|engineering|    7|4000.0|   44000.0|         42000.0| egypt|senior|   normal|\n",
      "|  5| Hany|15000.0|         hr|    1|1500.0|   16500.0|         15750.0| egypt|junior|   normal|\n",
      "|  6| Nora|22000.0|         hr|    4|2200.0|   24200.0|         23100.0| egypt|junior|   normal|\n",
      "+---+-----+-------+-----------+-----+------+----------+----------------+------+------+---------+\n",
      "\n"
     ]
    },
    {
     "name": "stderr",
     "output_type": "stream",
     "text": [
      "                                                                                \r"
     ]
    }
   ],
   "source": [
    "# اضافه عمود ثابت القيمه \n",
    "df= df.withColumn('county',fn.lit('egypt'))\n",
    "\n",
    "# اضافه عمود جديد فيها جنيور واو سنيور علي حسب هو اكتر من 5 سنين خيره او لا \n",
    "\n",
    "df=df.withColumn('level',\n",
    "                 fn.when(fn.col('years')>= 5,'senior').otherwise('junior'))\n",
    "\n",
    "\n",
    "# use and & , or |\n",
    "\n",
    "df = df.withColumn('status',\n",
    "                   fn.when((fn.col('salary')>= 30000)  & (fn.col('department')== 'sales'),'top sales' ).otherwise('normal')\n",
    "\n",
    ")\n",
    "\n",
    "df.show()"
   ]
  },
  {
   "cell_type": "code",
   "execution_count": 72,
   "id": "df5c791f",
   "metadata": {},
   "outputs": [
    {
     "name": "stdout",
     "output_type": "stream",
     "text": [
      "+---+-----+-------+-----------+-----+------+----------+----------------+------+------+---------+----------+----------------+------------+\n",
      "|id |name |salary |department |years|bonus |total_comp|salary_plus_5pct|county|level |status   |name_upper|department_lower|name_initcap|\n",
      "+---+-----+-------+-----------+-----+------+----------+----------------+------+------+---------+----------+----------------+------------+\n",
      "|1  |Ahmed|25000.0|sales      |2    |2500.0|27500.0   |26250.0         |egypt |junior|normal   |AHMED     |sales           |Ahmed       |\n",
      "|2  |Mona |32000.0|sales      |5    |3200.0|35200.0   |33600.0         |egypt |senior|top sales|MONA      |sales           |Mona        |\n",
      "|3  |Omar |28000.0|engineering|3    |2800.0|30800.0   |29400.0         |egypt |junior|normal   |OMAR      |engineering     |Omar        |\n",
      "|4  |Sara |40000.0|engineering|7    |4000.0|44000.0   |42000.0         |egypt |senior|normal   |SARA      |engineering     |Sara        |\n",
      "|5  |Hany |15000.0|hr         |1    |1500.0|16500.0   |15750.0         |egypt |junior|normal   |HANY      |hr              |Hany        |\n",
      "|6  |Nora |22000.0|hr         |4    |2200.0|24200.0   |23100.0         |egypt |junior|normal   |NORA      |hr              |Nora        |\n",
      "+---+-----+-------+-----------+-----+------+----------+----------------+------+------+---------+----------+----------------+------------+\n",
      "\n"
     ]
    }
   ],
   "source": [
    "# تحويل الاسم كله لحروف كبيرة\n",
    "df = df.withColumn(\"name_upper\", fn.upper(fn.col(\"name\")))\n",
    "\n",
    "# تحويل القسم كله لحروف صغيرة\n",
    "df = df.withColumn(\"department_lower\", fn.lower(fn.col(\"department\")))\n",
    "\n",
    "# الاسم الأول بحرف كبير فقط\n",
    "df = df.withColumn(\"name_initcap\", fn.initcap(fn.col(\"name\")))\n",
    "\n",
    "df.show(truncate=False)\n"
   ]
  },
  {
   "cell_type": "code",
   "execution_count": 73,
   "id": "8424cff8",
   "metadata": {},
   "outputs": [
    {
     "name": "stdout",
     "output_type": "stream",
     "text": [
      "+---+-----+-------+-----------+-----+------+----------+----------------+------+------+---------+----------+----------------+------------+---------------+----------------+\n",
      "| id| name| salary| department|years| bonus|total_comp|salary_plus_5pct|county| level|   status|name_upper|department_lower|name_initcap|       display1|         display|\n",
      "+---+-----+-------+-----------+-----+------+----------+----------------+------+------+---------+----------+----------------+------------+---------------+----------------+\n",
      "|  1|Ahmed|25000.0|      sales|    2|2500.0|   27500.0|         26250.0| egypt|junior|   normal|     AHMED|           sales|       Ahmed|     Ahmedsales|     Ahmed-SALES|\n",
      "|  2| Mona|32000.0|      sales|    5|3200.0|   35200.0|         33600.0| egypt|senior|top sales|      MONA|           sales|        Mona|      Monasales|      Mona-SALES|\n",
      "|  3| Omar|28000.0|engineering|    3|2800.0|   30800.0|         29400.0| egypt|junior|   normal|      OMAR|     engineering|        Omar|Omarengineering|Omar-ENGINEERING|\n",
      "|  4| Sara|40000.0|engineering|    7|4000.0|   44000.0|         42000.0| egypt|senior|   normal|      SARA|     engineering|        Sara|Saraengineering|Sara-ENGINEERING|\n",
      "|  5| Hany|15000.0|         hr|    1|1500.0|   16500.0|         15750.0| egypt|junior|   normal|      HANY|              hr|        Hany|         Hanyhr|         Hany-HR|\n",
      "|  6| Nora|22000.0|         hr|    4|2200.0|   24200.0|         23100.0| egypt|junior|   normal|      NORA|              hr|        Nora|         Norahr|         Nora-HR|\n",
      "+---+-----+-------+-----------+-----+------+----------+----------------+------+------+---------+----------+----------------+------------+---------------+----------------+\n",
      "\n"
     ]
    }
   ],
   "source": [
    "# دمج اعمده مباشر بدون فواصل \n",
    "import pyspark.sql.functions as fn\n",
    "df= df.withColumn('display1',fn.concat(fn.col('name'),fn.col('department')))\n",
    "\n",
    "# دمج مع فصله في المنتصف\n",
    "\n",
    "df =df.withColumn('display',fn.concat_ws('-',fn.col('name'),fn.upper(fn.col('department'))))\n",
    "\n",
    "df.show()"
   ]
  },
  {
   "cell_type": "code",
   "execution_count": 57,
   "id": "3ac88a15",
   "metadata": {},
   "outputs": [
    {
     "name": "stdout",
     "output_type": "stream",
     "text": [
      "+---+-----+-------+----------+-----+------+----------+----------------+------+------+---------+----------+----------------+------------+----------+-----------+\n",
      "|id |name |salary |department|years|bonus |total_comp|salary_plus_5pct|county|level |status   |name_upper|department_lower|name_initcap|display1  |display    |\n",
      "+---+-----+-------+----------+-----+------+----------+----------------+------+------+---------+----------+----------------+------------+----------+-----------+\n",
      "|1  |Ahmed|25000.0|sales     |2    |2500.0|27500.0   |26250.0         |egypt |junior|normal   |AHMED     |sales           |Ahmed       |Ahmedsales|Ahmed-SALES|\n",
      "|2  |Mona |32000.0|sales     |5    |3200.0|35200.0   |33600.0         |egypt |senior|top sales|MONA      |sales           |Mona        |Monasales |Mona-SALES |\n",
      "+---+-----+-------+----------+-----+------+----------+----------------+------+------+---------+----------+----------------+------------+----------+-----------+\n",
      "\n"
     ]
    }
   ],
   "source": [
    "# whenهنعمل فيلتر ويعتبر هو هونفس التاثير بتاع \n",
    "df.filter(fn.col(\"department\") == \"sales\").show(truncate=False)\n"
   ]
  },
  {
   "cell_type": "code",
   "execution_count": 58,
   "id": "4cf6395c",
   "metadata": {},
   "outputs": [
    {
     "name": "stderr",
     "output_type": "stream",
     "text": [
      "                                                                                \r"
     ]
    },
    {
     "name": "stdout",
     "output_type": "stream",
     "text": [
      "+-------------+----------+\n",
      "|employee_name|total_comp|\n",
      "+-------------+----------+\n",
      "|Ahmed        |27500.0   |\n",
      "|Mona         |35200.0   |\n",
      "|Omar         |30800.0   |\n",
      "|Sara         |44000.0   |\n",
      "|Hany         |16500.0   |\n",
      "|Nora         |24200.0   |\n",
      "+-------------+----------+\n",
      "\n"
     ]
    }
   ],
   "source": [
    "# select\n",
    "df.select(fn.col(\"name\").alias(\"employee_name\"), \"total_comp\").show(truncate=False)\n",
    "# alias بتغير اسم العمود لاي حاجه انا هكنبها "
   ]
  },
  {
   "cell_type": "code",
   "execution_count": 65,
   "id": "42ecdea2",
   "metadata": {},
   "outputs": [
    {
     "name": "stdout",
     "output_type": "stream",
     "text": [
      "+---+-----+-------+-----------+-----+------+----------+----------------+------+------+---------+----------+----------------+------------+---------------+----------------+\n",
      "| id| name| salary| department|years| bonus|total_comp|salary_plus_5pct|county| level|   status|name_upper|department_lower|name_initcap|       display1|         display|\n",
      "+---+-----+-------+-----------+-----+------+----------+----------------+------+------+---------+----------+----------------+------------+---------------+----------------+\n",
      "|  4| Sara|40000.0|engineering|    7|4000.0|   44000.0|         42000.0| egypt|senior|   normal|      SARA|     engineering|        Sara|Saraengineering|Sara-ENGINEERING|\n",
      "|  3| Omar|28000.0|engineering|    3|2800.0|   30800.0|         29400.0| egypt|junior|   normal|      OMAR|     engineering|        Omar|Omarengineering|Omar-ENGINEERING|\n",
      "|  6| Nora|22000.0|         hr|    4|2200.0|   24200.0|         23100.0| egypt|junior|   normal|      NORA|              hr|        Nora|         Norahr|         Nora-HR|\n",
      "|  5| Hany|15000.0|         hr|    1|1500.0|   16500.0|         15750.0| egypt|junior|   normal|      HANY|              hr|        Hany|         Hanyhr|         Hany-HR|\n",
      "|  2| Mona|32000.0|      sales|    5|3200.0|   35200.0|         33600.0| egypt|senior|top sales|      MONA|           sales|        Mona|      Monasales|      Mona-SALES|\n",
      "|  1|Ahmed|25000.0|      sales|    2|2500.0|   27500.0|         26250.0| egypt|junior|   normal|     AHMED|           sales|       Ahmed|     Ahmedsales|     Ahmed-SALES|\n",
      "+---+-----+-------+-----------+-----+------+----------+----------------+------+------+---------+----------+----------------+------------+---------------+----------------+\n",
      "\n"
     ]
    },
    {
     "name": "stderr",
     "output_type": "stream",
     "text": [
      "                                                                                \r"
     ]
    }
   ],
   "source": [
    "# ترتيب البيانات علي حسب تصاعدي او تنازلي \n",
    "df.orderBy(fn.col('department')) # ترتيب تصاعدي \n",
    "df.orderBy (df['salary'].desc()) #  ترتيب تنازلي \n",
    "\n",
    "\n",
    "\n",
    "# حسب department تصاعدي، و salary تنازلي\n",
    "df.orderBy(df['department'],df['salary'].desc()).show()\n"
   ]
  },
  {
   "cell_type": "code",
   "execution_count": 76,
   "id": "b4f29233",
   "metadata": {},
   "outputs": [
    {
     "name": "stderr",
     "output_type": "stream",
     "text": [
      "                                                                                \r"
     ]
    },
    {
     "name": "stdout",
     "output_type": "stream",
     "text": [
      "+-----------+----------+\n",
      "| department|avg_salary|\n",
      "+-----------+----------+\n",
      "|      sales|   28500.0|\n",
      "|engineering|   34000.0|\n",
      "|         hr|   18500.0|\n",
      "+-----------+----------+\n",
      "\n",
      "+-----------+----------+-----------+---------+\n",
      "|department |avg_salary|total_bonus|count_emp|\n",
      "+-----------+----------+-----------+---------+\n",
      "|sales      |28500.0   |5700.0     |2        |\n",
      "|engineering|34000.0   |6800.0     |2        |\n",
      "|hr         |18500.0   |3700.0     |2        |\n",
      "+-----------+----------+-----------+---------+\n",
      "\n"
     ]
    },
    {
     "name": "stderr",
     "output_type": "stream",
     "text": [
      "[Stage 126:>                                                        (0 + 2) / 2]\r"
     ]
    },
    {
     "name": "stdout",
     "output_type": "stream",
     "text": [
      "+-----------+----------+\n",
      "| department|avg(bonus)|\n",
      "+-----------+----------+\n",
      "|      sales|    3200.0|\n",
      "|engineering|    4000.0|\n",
      "+-----------+----------+\n",
      "\n"
     ]
    },
    {
     "name": "stderr",
     "output_type": "stream",
     "text": [
      "                                                                                \r"
     ]
    }
   ],
   "source": [
    "# التجميع (Aggregation) باستخدام groupBy + agg\n",
    "\n",
    "df.groupBy(df['department']).agg(avg(df['salary']).alias('avg_salary')).show()\n",
    "\n",
    "\n",
    "# تجميع متعدد الاعمده و الاحصائبات  \n",
    "df.groupBy(\"department\").agg(\n",
    "    fn.avg(\"salary\").alias(\"avg_salary\"),\n",
    "    fn.sum(\"bonus\").alias(\"total_bonus\"),\n",
    "    fn.count(\"*\").alias(\"count_emp\")\n",
    ").show(truncate=False)\n",
    "\n",
    "\n",
    "#التجميع مع شرط قبلها \n",
    "df.filter(fn.col('salary')>30000).groupBy(df['department']).agg(fn.avg(df['bonus'])).show()"
   ]
  },
  {
   "cell_type": "code",
   "execution_count": 1,
   "id": "c63d598a",
   "metadata": {},
   "outputs": [
    {
     "ename": "NameError",
     "evalue": "name 'df' is not defined",
     "output_type": "error",
     "traceback": [
      "\u001b[0;31m---------------------------------------------------------------------------\u001b[0m",
      "\u001b[0;31mNameError\u001b[0m                                 Traceback (most recent call last)",
      "Cell \u001b[0;32mIn[1], line 2\u001b[0m\n\u001b[1;32m      1\u001b[0m \u001b[38;5;66;03m# لو عوزين نحذف عمود \u001b[39;00m\n\u001b[0;32m----> 2\u001b[0m df \u001b[38;5;241m=\u001b[39m \u001b[43mdf\u001b[49m\u001b[38;5;241m.\u001b[39mdrop(\u001b[38;5;124m\"\u001b[39m\u001b[38;5;124mname_initcap\u001b[39m\u001b[38;5;124m\"\u001b[39m)\n",
      "\u001b[0;31mNameError\u001b[0m: name 'df' is not defined"
     ]
    }
   ],
   "source": [
    "# لو عوزين نحذف عمود \n",
    "df = df.drop(\"name_initcap\")\n",
    "\n"
   ]
  },
  {
   "cell_type": "code",
   "execution_count": 80,
   "id": "88773767",
   "metadata": {},
   "outputs": [
    {
     "name": "stdout",
     "output_type": "stream",
     "text": [
      "+---+-----+-------+-----------+-----+------+----------+----------------+------+------+---------+----------+----------------+---------------+----------------+\n",
      "| id| name| salary| department|years| bonus|total_comp|salary_plus_5pct|county| level|   status|name_upper|department_lower|       display1|         display|\n",
      "+---+-----+-------+-----------+-----+------+----------+----------------+------+------+---------+----------+----------------+---------------+----------------+\n",
      "|  1|Ahmed|25000.0|      sales|    2|2500.0|   27500.0|         26250.0| egypt|junior|   normal|     AHMED|           sales|     Ahmedsales|     Ahmed-SALES|\n",
      "|  2| Mona|32000.0|      sales|    5|3200.0|   35200.0|         33600.0| egypt|senior|top sales|      MONA|           sales|      Monasales|      Mona-SALES|\n",
      "|  3| Omar|28000.0|engineering|    3|2800.0|   30800.0|         29400.0| egypt|junior|   normal|      OMAR|     engineering|Omarengineering|Omar-ENGINEERING|\n",
      "|  4| Sara|40000.0|engineering|    7|4000.0|   44000.0|         42000.0| egypt|senior|   normal|      SARA|     engineering|Saraengineering|Sara-ENGINEERING|\n",
      "|  5| Hany|15000.0|         hr|    1|1500.0|   16500.0|         15750.0| egypt|junior|   normal|      HANY|              hr|         Hanyhr|         Hany-HR|\n",
      "|  6| Nora|22000.0|         hr|    4|2200.0|   24200.0|         23100.0| egypt|junior|   normal|      NORA|              hr|         Norahr|         Nora-HR|\n",
      "+---+-----+-------+-----------+-----+------+----------+----------------+------+------+---------+----------+----------------+---------------+----------------+\n",
      "\n"
     ]
    }
   ],
   "source": [
    "df.show()"
   ]
  },
  {
   "cell_type": "markdown",
   "id": "28b2896c",
   "metadata": {},
   "source": [
    "=======================================================================================================================\n",
    "schema and how to identify the data type of eche column in the dataframe   "
   ]
  },
  {
   "cell_type": "markdown",
   "id": "1b339219",
   "metadata": {},
   "source": [
    "احنا لما بنجيب داتا من اي مكان او لما بنعمل كريت لداتا فريم جديده مش بيروح يجيب الداتا او يخدها كوبي هو بيعمل بوينت \n",
    "وبعيدن بيجيب الداتا منها لاكن اول م بقوله اعملي بيروح ياخد الداتا كوبي وسعتها بيجيبلي انواع البيانات الي في الاعمده \n",
    "    printschema()   "
   ]
  },
  {
   "cell_type": "code",
   "execution_count": null,
   "id": "02006991",
   "metadata": {},
   "outputs": [],
   "source": []
  },
  {
   "cell_type": "code",
   "execution_count": 4,
   "id": "629d4e9f",
   "metadata": {},
   "outputs": [
    {
     "ename": "PySparkTypeError",
     "evalue": "[FIELD_DATA_TYPE_UNACCEPTABLE_WITH_NAME] field bonus: DoubleType() can not accept object 3000 in type <class 'int'>.",
     "output_type": "error",
     "traceback": [
      "\u001b[0;31m---------------------------------------------------------------------------\u001b[0m",
      "\u001b[0;31mPySparkTypeError\u001b[0m                          Traceback (most recent call last)",
      "Cell \u001b[0;32mIn[4], line 17\u001b[0m\n\u001b[1;32m      3\u001b[0m schema \u001b[38;5;241m=\u001b[39m StructType([\n\u001b[1;32m      4\u001b[0m     StructField(\u001b[38;5;124m\"\u001b[39m\u001b[38;5;124mid\u001b[39m\u001b[38;5;124m\"\u001b[39m, IntegerType(), \u001b[38;5;28;01mTrue\u001b[39;00m),\n\u001b[1;32m      5\u001b[0m     StructField(\u001b[38;5;124m\"\u001b[39m\u001b[38;5;124mname\u001b[39m\u001b[38;5;124m\"\u001b[39m, StringType(), \u001b[38;5;28;01mTrue\u001b[39;00m),\n\u001b[0;32m   (...)\u001b[0m\n\u001b[1;32m      9\u001b[0m     StructField(\u001b[38;5;124m\"\u001b[39m\u001b[38;5;124mbonus\u001b[39m\u001b[38;5;124m\"\u001b[39m, DoubleType(), \u001b[38;5;28;01mTrue\u001b[39;00m)\n\u001b[1;32m     10\u001b[0m ])\n\u001b[1;32m     12\u001b[0m data \u001b[38;5;241m=\u001b[39m [\n\u001b[1;32m     13\u001b[0m     (\u001b[38;5;241m1\u001b[39m, \u001b[38;5;124m\"\u001b[39m\u001b[38;5;124mAhmed\u001b[39m\u001b[38;5;124m\"\u001b[39m, \u001b[38;5;241m30000.0\u001b[39m, \u001b[38;5;124m\"\u001b[39m\u001b[38;5;124msales\u001b[39m\u001b[38;5;124m\"\u001b[39m, \u001b[38;5;241m3\u001b[39m, \u001b[38;5;241m3000\u001b[39m),\n\u001b[1;32m     14\u001b[0m     (\u001b[38;5;241m2\u001b[39m, \u001b[38;5;124m\"\u001b[39m\u001b[38;5;124mMona\u001b[39m\u001b[38;5;124m\"\u001b[39m, \u001b[38;5;241m27000.0\u001b[39m, \u001b[38;5;124m\"\u001b[39m\u001b[38;5;124msales\u001b[39m\u001b[38;5;124m\"\u001b[39m, \u001b[38;5;241m2\u001b[39m, \u001b[38;5;241m2700\u001b[39m),\n\u001b[1;32m     15\u001b[0m ]\n\u001b[0;32m---> 17\u001b[0m df \u001b[38;5;241m=\u001b[39m \u001b[43mspark\u001b[49m\u001b[38;5;241;43m.\u001b[39;49m\u001b[43mcreateDataFrame\u001b[49m\u001b[43m(\u001b[49m\u001b[43mdata\u001b[49m\u001b[43m,\u001b[49m\u001b[43m \u001b[49m\u001b[43mschema\u001b[49m\u001b[38;5;241;43m=\u001b[39;49m\u001b[43mschema\u001b[49m\u001b[43m)\u001b[49m\n\u001b[1;32m     18\u001b[0m df\u001b[38;5;241m.\u001b[39mprintSchema()\n\u001b[1;32m     19\u001b[0m df\u001b[38;5;241m.\u001b[39mshow()\n",
      "File \u001b[0;32m~/miniconda3/envs/pyspark_env/lib/python3.10/site-packages/pyspark/sql/session.py:1599\u001b[0m, in \u001b[0;36mSparkSession.createDataFrame\u001b[0;34m(self, data, schema, samplingRatio, verifySchema)\u001b[0m\n\u001b[1;32m   1594\u001b[0m \u001b[38;5;28;01mif\u001b[39;00m has_pyarrow \u001b[38;5;129;01mand\u001b[39;00m \u001b[38;5;28misinstance\u001b[39m(data, pa\u001b[38;5;241m.\u001b[39mTable):\n\u001b[1;32m   1595\u001b[0m     \u001b[38;5;66;03m# Create a DataFrame from PyArrow Table.\u001b[39;00m\n\u001b[1;32m   1596\u001b[0m     \u001b[38;5;28;01mreturn\u001b[39;00m \u001b[38;5;28msuper\u001b[39m(SparkSession, \u001b[38;5;28mself\u001b[39m)\u001b[38;5;241m.\u001b[39mcreateDataFrame(  \u001b[38;5;66;03m# type: ignore[call-overload]\u001b[39;00m\n\u001b[1;32m   1597\u001b[0m         data, schema, samplingRatio, verifySchema\n\u001b[1;32m   1598\u001b[0m     )\n\u001b[0;32m-> 1599\u001b[0m \u001b[38;5;28;01mreturn\u001b[39;00m \u001b[38;5;28;43mself\u001b[39;49m\u001b[38;5;241;43m.\u001b[39;49m\u001b[43m_create_dataframe\u001b[49m\u001b[43m(\u001b[49m\n\u001b[1;32m   1600\u001b[0m \u001b[43m    \u001b[49m\u001b[43mdata\u001b[49m\u001b[43m,\u001b[49m\u001b[43m \u001b[49m\u001b[43mschema\u001b[49m\u001b[43m,\u001b[49m\u001b[43m \u001b[49m\u001b[43msamplingRatio\u001b[49m\u001b[43m,\u001b[49m\u001b[43m \u001b[49m\u001b[43mverifySchema\u001b[49m\u001b[43m  \u001b[49m\u001b[38;5;66;43;03m# type: ignore[arg-type]\u001b[39;49;00m\n\u001b[1;32m   1601\u001b[0m \u001b[43m\u001b[49m\u001b[43m)\u001b[49m\n",
      "File \u001b[0;32m~/miniconda3/envs/pyspark_env/lib/python3.10/site-packages/pyspark/sql/session.py:1643\u001b[0m, in \u001b[0;36mSparkSession._create_dataframe\u001b[0;34m(self, data, schema, samplingRatio, verifySchema)\u001b[0m\n\u001b[1;32m   1641\u001b[0m     rdd, struct \u001b[38;5;241m=\u001b[39m \u001b[38;5;28mself\u001b[39m\u001b[38;5;241m.\u001b[39m_createFromRDD(data\u001b[38;5;241m.\u001b[39mmap(prepare), schema, samplingRatio)\n\u001b[1;32m   1642\u001b[0m \u001b[38;5;28;01melse\u001b[39;00m:\n\u001b[0;32m-> 1643\u001b[0m     rdd, struct \u001b[38;5;241m=\u001b[39m \u001b[38;5;28;43mself\u001b[39;49m\u001b[38;5;241;43m.\u001b[39;49m\u001b[43m_createFromLocal\u001b[49m\u001b[43m(\u001b[49m\n\u001b[1;32m   1644\u001b[0m \u001b[43m        \u001b[49m\u001b[38;5;28;43mmap\u001b[39;49m\u001b[43m(\u001b[49m\u001b[43mprepare\u001b[49m\u001b[43m,\u001b[49m\u001b[43m \u001b[49m\u001b[43mdata\u001b[49m\u001b[43m)\u001b[49m\u001b[43m,\u001b[49m\u001b[43m \u001b[49m\u001b[43mschema\u001b[49m\u001b[43m  \u001b[49m\u001b[38;5;66;43;03m# type: ignore[arg-type]\u001b[39;49;00m\n\u001b[1;32m   1645\u001b[0m \u001b[43m    \u001b[49m\u001b[43m)\u001b[49m\n\u001b[1;32m   1646\u001b[0m \u001b[38;5;28;01massert\u001b[39;00m \u001b[38;5;28mself\u001b[39m\u001b[38;5;241m.\u001b[39m_jvm \u001b[38;5;129;01mis\u001b[39;00m \u001b[38;5;129;01mnot\u001b[39;00m \u001b[38;5;28;01mNone\u001b[39;00m\n\u001b[1;32m   1647\u001b[0m jrdd \u001b[38;5;241m=\u001b[39m \u001b[38;5;28mself\u001b[39m\u001b[38;5;241m.\u001b[39m_jvm\u001b[38;5;241m.\u001b[39mSerDeUtil\u001b[38;5;241m.\u001b[39mtoJavaArray(rdd\u001b[38;5;241m.\u001b[39m_to_java_object_rdd())\n",
      "File \u001b[0;32m~/miniconda3/envs/pyspark_env/lib/python3.10/site-packages/pyspark/sql/session.py:1195\u001b[0m, in \u001b[0;36mSparkSession._createFromLocal\u001b[0;34m(self, data, schema)\u001b[0m\n\u001b[1;32m   1193\u001b[0m \u001b[38;5;66;03m# make sure data could consumed multiple times\u001b[39;00m\n\u001b[1;32m   1194\u001b[0m \u001b[38;5;28;01mif\u001b[39;00m \u001b[38;5;129;01mnot\u001b[39;00m \u001b[38;5;28misinstance\u001b[39m(data, \u001b[38;5;28mlist\u001b[39m):\n\u001b[0;32m-> 1195\u001b[0m     data \u001b[38;5;241m=\u001b[39m \u001b[38;5;28;43mlist\u001b[39;49m\u001b[43m(\u001b[49m\u001b[43mdata\u001b[49m\u001b[43m)\u001b[49m\n\u001b[1;32m   1197\u001b[0m \u001b[38;5;28;01mif\u001b[39;00m schema \u001b[38;5;129;01mis\u001b[39;00m \u001b[38;5;28;01mNone\u001b[39;00m \u001b[38;5;129;01mor\u001b[39;00m \u001b[38;5;28misinstance\u001b[39m(schema, (\u001b[38;5;28mlist\u001b[39m, \u001b[38;5;28mtuple\u001b[39m)):\n\u001b[1;32m   1198\u001b[0m     struct \u001b[38;5;241m=\u001b[39m \u001b[38;5;28mself\u001b[39m\u001b[38;5;241m.\u001b[39m_inferSchemaFromList(data, names\u001b[38;5;241m=\u001b[39mschema)\n",
      "File \u001b[0;32m~/miniconda3/envs/pyspark_env/lib/python3.10/site-packages/pyspark/sql/session.py:1615\u001b[0m, in \u001b[0;36mSparkSession._create_dataframe.<locals>.prepare\u001b[0;34m(obj)\u001b[0m\n\u001b[1;32m   1613\u001b[0m \u001b[38;5;129m@no_type_check\u001b[39m\n\u001b[1;32m   1614\u001b[0m \u001b[38;5;28;01mdef\u001b[39;00m\u001b[38;5;250m \u001b[39m\u001b[38;5;21mprepare\u001b[39m(obj):\n\u001b[0;32m-> 1615\u001b[0m     \u001b[43mverify_func\u001b[49m\u001b[43m(\u001b[49m\u001b[43mobj\u001b[49m\u001b[43m)\u001b[49m\n\u001b[1;32m   1616\u001b[0m     \u001b[38;5;28;01mreturn\u001b[39;00m obj\n",
      "File \u001b[0;32m~/miniconda3/envs/pyspark_env/lib/python3.10/site-packages/pyspark/sql/types.py:2976\u001b[0m, in \u001b[0;36m_make_type_verifier.<locals>.verify\u001b[0;34m(obj)\u001b[0m\n\u001b[1;32m   2974\u001b[0m \u001b[38;5;28;01mdef\u001b[39;00m\u001b[38;5;250m \u001b[39m\u001b[38;5;21mverify\u001b[39m(obj: Any) \u001b[38;5;241m-\u001b[39m\u001b[38;5;241m>\u001b[39m \u001b[38;5;28;01mNone\u001b[39;00m:\n\u001b[1;32m   2975\u001b[0m     \u001b[38;5;28;01mif\u001b[39;00m \u001b[38;5;129;01mnot\u001b[39;00m verify_nullability(obj):\n\u001b[0;32m-> 2976\u001b[0m         \u001b[43mverify_value\u001b[49m\u001b[43m(\u001b[49m\u001b[43mobj\u001b[49m\u001b[43m)\u001b[49m\n",
      "File \u001b[0;32m~/miniconda3/envs/pyspark_env/lib/python3.10/site-packages/pyspark/sql/types.py:2931\u001b[0m, in \u001b[0;36m_make_type_verifier.<locals>.verify_struct\u001b[0;34m(obj)\u001b[0m\n\u001b[1;32m   2923\u001b[0m         \u001b[38;5;28;01mraise\u001b[39;00m PySparkValueError(\n\u001b[1;32m   2924\u001b[0m             errorClass\u001b[38;5;241m=\u001b[39m\u001b[38;5;124m\"\u001b[39m\u001b[38;5;124mFIELD_STRUCT_LENGTH_MISMATCH\u001b[39m\u001b[38;5;124m\"\u001b[39m,\n\u001b[1;32m   2925\u001b[0m             messageParameters\u001b[38;5;241m=\u001b[39m{\n\u001b[0;32m   (...)\u001b[0m\n\u001b[1;32m   2928\u001b[0m             },\n\u001b[1;32m   2929\u001b[0m         )\n\u001b[1;32m   2930\u001b[0m     \u001b[38;5;28;01mfor\u001b[39;00m v, (_, verifier) \u001b[38;5;129;01min\u001b[39;00m \u001b[38;5;28mzip\u001b[39m(obj, verifiers):\n\u001b[0;32m-> 2931\u001b[0m         \u001b[43mverifier\u001b[49m\u001b[43m(\u001b[49m\u001b[43mv\u001b[49m\u001b[43m)\u001b[49m\n\u001b[1;32m   2932\u001b[0m \u001b[38;5;28;01melif\u001b[39;00m \u001b[38;5;28mhasattr\u001b[39m(obj, \u001b[38;5;124m\"\u001b[39m\u001b[38;5;124m__dict__\u001b[39m\u001b[38;5;124m\"\u001b[39m):\n\u001b[1;32m   2933\u001b[0m     d \u001b[38;5;241m=\u001b[39m obj\u001b[38;5;241m.\u001b[39m\u001b[38;5;18m__dict__\u001b[39m\n",
      "File \u001b[0;32m~/miniconda3/envs/pyspark_env/lib/python3.10/site-packages/pyspark/sql/types.py:2976\u001b[0m, in \u001b[0;36m_make_type_verifier.<locals>.verify\u001b[0;34m(obj)\u001b[0m\n\u001b[1;32m   2974\u001b[0m \u001b[38;5;28;01mdef\u001b[39;00m\u001b[38;5;250m \u001b[39m\u001b[38;5;21mverify\u001b[39m(obj: Any) \u001b[38;5;241m-\u001b[39m\u001b[38;5;241m>\u001b[39m \u001b[38;5;28;01mNone\u001b[39;00m:\n\u001b[1;32m   2975\u001b[0m     \u001b[38;5;28;01mif\u001b[39;00m \u001b[38;5;129;01mnot\u001b[39;00m verify_nullability(obj):\n\u001b[0;32m-> 2976\u001b[0m         \u001b[43mverify_value\u001b[49m\u001b[43m(\u001b[49m\u001b[43mobj\u001b[49m\u001b[43m)\u001b[49m\n",
      "File \u001b[0;32m~/miniconda3/envs/pyspark_env/lib/python3.10/site-packages/pyspark/sql/types.py:2970\u001b[0m, in \u001b[0;36m_make_type_verifier.<locals>.verify_default\u001b[0;34m(obj)\u001b[0m\n\u001b[1;32m   2968\u001b[0m \u001b[38;5;28;01mdef\u001b[39;00m\u001b[38;5;250m \u001b[39m\u001b[38;5;21mverify_default\u001b[39m(obj: Any) \u001b[38;5;241m-\u001b[39m\u001b[38;5;241m>\u001b[39m \u001b[38;5;28;01mNone\u001b[39;00m:\n\u001b[1;32m   2969\u001b[0m     assert_acceptable_types(obj)\n\u001b[0;32m-> 2970\u001b[0m     \u001b[43mverify_acceptable_types\u001b[49m\u001b[43m(\u001b[49m\u001b[43mobj\u001b[49m\u001b[43m)\u001b[49m\n",
      "File \u001b[0;32m~/miniconda3/envs/pyspark_env/lib/python3.10/site-packages/pyspark/sql/types.py:2744\u001b[0m, in \u001b[0;36m_make_type_verifier.<locals>.verify_acceptable_types\u001b[0;34m(obj)\u001b[0m\n\u001b[1;32m   2742\u001b[0m \u001b[38;5;28;01mif\u001b[39;00m \u001b[38;5;28mtype\u001b[39m(obj) \u001b[38;5;129;01mnot\u001b[39;00m \u001b[38;5;129;01min\u001b[39;00m _acceptable_types[_type]:\n\u001b[1;32m   2743\u001b[0m     \u001b[38;5;28;01mif\u001b[39;00m name \u001b[38;5;129;01mis\u001b[39;00m \u001b[38;5;129;01mnot\u001b[39;00m \u001b[38;5;28;01mNone\u001b[39;00m:\n\u001b[0;32m-> 2744\u001b[0m         \u001b[38;5;28;01mraise\u001b[39;00m PySparkTypeError(\n\u001b[1;32m   2745\u001b[0m             errorClass\u001b[38;5;241m=\u001b[39m\u001b[38;5;124m\"\u001b[39m\u001b[38;5;124mFIELD_DATA_TYPE_UNACCEPTABLE_WITH_NAME\u001b[39m\u001b[38;5;124m\"\u001b[39m,\n\u001b[1;32m   2746\u001b[0m             messageParameters\u001b[38;5;241m=\u001b[39m{\n\u001b[1;32m   2747\u001b[0m                 \u001b[38;5;124m\"\u001b[39m\u001b[38;5;124mfield_name\u001b[39m\u001b[38;5;124m\"\u001b[39m: \u001b[38;5;28mstr\u001b[39m(name),\n\u001b[1;32m   2748\u001b[0m                 \u001b[38;5;124m\"\u001b[39m\u001b[38;5;124mdata_type\u001b[39m\u001b[38;5;124m\"\u001b[39m: \u001b[38;5;28mstr\u001b[39m(dataType),\n\u001b[1;32m   2749\u001b[0m                 \u001b[38;5;124m\"\u001b[39m\u001b[38;5;124mobj\u001b[39m\u001b[38;5;124m\"\u001b[39m: \u001b[38;5;28mrepr\u001b[39m(obj),\n\u001b[1;32m   2750\u001b[0m                 \u001b[38;5;124m\"\u001b[39m\u001b[38;5;124mobj_type\u001b[39m\u001b[38;5;124m\"\u001b[39m: \u001b[38;5;28mstr\u001b[39m(\u001b[38;5;28mtype\u001b[39m(obj)),\n\u001b[1;32m   2751\u001b[0m             },\n\u001b[1;32m   2752\u001b[0m         )\n\u001b[1;32m   2753\u001b[0m     \u001b[38;5;28;01mraise\u001b[39;00m PySparkTypeError(\n\u001b[1;32m   2754\u001b[0m         errorClass\u001b[38;5;241m=\u001b[39m\u001b[38;5;124m\"\u001b[39m\u001b[38;5;124mFIELD_DATA_TYPE_UNACCEPTABLE\u001b[39m\u001b[38;5;124m\"\u001b[39m,\n\u001b[1;32m   2755\u001b[0m         messageParameters\u001b[38;5;241m=\u001b[39m{\n\u001b[0;32m   (...)\u001b[0m\n\u001b[1;32m   2759\u001b[0m         },\n\u001b[1;32m   2760\u001b[0m     )\n",
      "\u001b[0;31mPySparkTypeError\u001b[0m: [FIELD_DATA_TYPE_UNACCEPTABLE_WITH_NAME] field bonus: DoubleType() can not accept object 3000 in type <class 'int'>."
     ]
    }
   ],
   "source": [
    "from pyspark.sql.types import *\n",
    "\n",
    "schema = StructType([\n",
    "    StructField(\"id\", IntegerType(), True),\n",
    "    StructField(\"name\", StringType(), True),\n",
    "    StructField(\"salary\", DoubleType(), True),\n",
    "    StructField(\"department\", StringType(), True),\n",
    "    StructField(\"years\", IntegerType(), True),\n",
    "    StructField(\"bonus\", DoubleType(), True)\n",
    "])\n",
    "\n",
    "data = [\n",
    "    (1, \"Ahmed\", 30000.0, \"sales\", 3, 3000),\n",
    "    (2, \"Mona\", 27000.0, \"sales\", 2, 2700),\n",
    "]\n",
    "\n",
    "df = spark.createDataFrame(data, schema=schema)\n",
    "df.printSchema()\n",
    "df.show()\n"
   ]
  }
 ],
 "metadata": {
  "kernelspec": {
   "display_name": "pyspark_env",
   "language": "python",
   "name": "python3"
  },
  "language_info": {
   "codemirror_mode": {
    "name": "ipython",
    "version": 3
   },
   "file_extension": ".py",
   "mimetype": "text/x-python",
   "name": "python",
   "nbconvert_exporter": "python",
   "pygments_lexer": "ipython3",
   "version": "3.10.18"
  }
 },
 "nbformat": 4,
 "nbformat_minor": 5
}
