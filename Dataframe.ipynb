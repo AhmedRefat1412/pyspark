{
 "cells": [
  {
   "cell_type": "code",
   "execution_count": 3,
   "id": "b58ba69c",
   "metadata": {},
   "outputs": [
    {
     "name": "stderr",
     "output_type": "stream",
     "text": [
      "WARNING: Using incubator modules: jdk.incubator.vector\n",
      "Using Spark's default log4j profile: org/apache/spark/log4j2-defaults.properties\n",
      "25/10/19 01:36:26 WARN Utils: Your hostname, ahmed-refat-VirtualBox, resolves to a loopback address: 127.0.1.1; using 10.0.2.15 instead (on interface enp0s3)\n",
      "25/10/19 01:36:26 WARN Utils: Set SPARK_LOCAL_IP if you need to bind to another address\n",
      "Using Spark's default log4j profile: org/apache/spark/log4j2-defaults.properties\n",
      "Setting default log level to \"WARN\".\n",
      "To adjust logging level use sc.setLogLevel(newLevel). For SparkR, use setLogLevel(newLevel).\n",
      "25/10/19 01:36:29 WARN NativeCodeLoader: Unable to load native-hadoop library for your platform... using builtin-java classes where applicable\n",
      "                                                                                \r"
     ]
    },
    {
     "data": {
      "text/plain": [
       "[('Brooke', 20),\n",
       " ('Denny', 31),\n",
       " ('Jules', 30),\n",
       " ('TD', 35),\n",
       " ('Brooke', 25),\n",
       " ('Jules', 30),\n",
       " ('Denny', 51),\n",
       " ('TD', 15)]"
      ]
     },
     "execution_count": 3,
     "metadata": {},
     "output_type": "execute_result"
    }
   ],
   "source": [
    "import findspark\n",
    "findspark.init()\n",
    "from pyspark.sql import SparkSession \n",
    "spark = SparkSession.builder.getOrCreate()\n",
    "\n",
    "sc= spark.sparkContext\n",
    "#RDD\n",
    "dataRDD= sc.parallelize([(\"Brooke\",20),(\"Denny\",31),(\"Jules\",30),(\"TD\",35),(\"Brooke\",25),(\"Jules\",30),(\"Denny\",51),(\"TD\",15)])\n",
    "\n",
    "dataRDD.collect()"
   ]
  },
  {
   "cell_type": "code",
   "execution_count": 4,
   "id": "8020e6c4",
   "metadata": {},
   "outputs": [
    {
     "name": "stderr",
     "output_type": "stream",
     "text": [
      "                                                                                \r"
     ]
    },
    {
     "name": "stdout",
     "output_type": "stream",
     "text": [
      "+------+---+\n",
      "|  name|age|\n",
      "+------+---+\n",
      "|Brooke| 20|\n",
      "| Denny| 31|\n",
      "| Jules| 30|\n",
      "|    TD| 35|\n",
      "|Brooke| 25|\n",
      "+------+---+\n",
      "only showing top 5 rows\n"
     ]
    },
    {
     "name": "stderr",
     "output_type": "stream",
     "text": [
      "                                                                                \r"
     ]
    },
    {
     "data": {
      "text/plain": [
       "'Brooke'"
      ]
     },
     "execution_count": 4,
     "metadata": {},
     "output_type": "execute_result"
    }
   ],
   "source": [
    "data_frame= spark.createDataFrame([(\"Brooke\",20),(\"Denny\",31),(\"Jules\",30),(\"TD\",35),\n",
    "(\"Brooke\",25),(\"Jules\",30),(\"Denny\",51),(\"TD\",15)],[\"name\",\"age\"])\n",
    "\n",
    "#data_frame.printSchema()\n",
    "#data_frame.show()  \n",
    "data_frame.show(5)  \n",
    "r=data_frame.collect()[0]\n",
    "r.name"
   ]
  },
  {
   "cell_type": "code",
   "execution_count": 5,
   "id": "cb06e2e4",
   "metadata": {},
   "outputs": [
    {
     "name": "stderr",
     "output_type": "stream",
     "text": [
      "                                                                                \r"
     ]
    },
    {
     "name": "stdout",
     "output_type": "stream",
     "text": [
      "+------+--------+\n",
      "|  name|avg(age)|\n",
      "+------+--------+\n",
      "|Brooke|    22.5|\n",
      "| Jules|    30.0|\n",
      "|    TD|    25.0|\n",
      "| Denny|    41.0|\n",
      "+------+--------+\n",
      "\n"
     ]
    },
    {
     "name": "stderr",
     "output_type": "stream",
     "text": [
      "                                                                                \r"
     ]
    },
    {
     "data": {
      "text/plain": [
       "[Row(name='Brooke', avg(age)=22.5), Row(name='Jules', avg(age)=30.0)]"
      ]
     },
     "execution_count": 5,
     "metadata": {},
     "output_type": "execute_result"
    }
   ],
   "source": [
    "# استخدام group by عشان اعمل متوسط عن طريق العمر \n",
    " \n",
    "avg_age=data_frame.groupBy('name').avg('age')\n",
    "avg_age.show()\n",
    "\n",
    "# عشان اعرف عدد البرتشننز الي هو 1 بس \n",
    "avg_age.rdd.getNumPartitions() # فوق كان في 2 بارتشن بس هنا 1 بس لانه عمل جروب باي يعني عمل شفل بين الي فوق عشان يطلع ببرتشن واحد بس \n",
    "\n",
    "avg_age.head(2)\n"
   ]
  },
  {
   "cell_type": "code",
   "execution_count": 31,
   "id": "f88e3903",
   "metadata": {},
   "outputs": [
    {
     "name": "stderr",
     "output_type": "stream",
     "text": [
      "                                                                                \r"
     ]
    },
    {
     "name": "stdout",
     "output_type": "stream",
     "text": [
      "+-----+----------+------+\n",
      "| name|department|salary|\n",
      "+-----+----------+------+\n",
      "|Ahmed|        IT|  3000|\n",
      "| Sara|        IT|  4000|\n",
      "|  Ali|        HR|  2000|\n",
      "| Mona|        HR|  2500|\n",
      "+-----+----------+------+\n",
      "\n"
     ]
    },
    {
     "name": "stderr",
     "output_type": "stream",
     "text": [
      "                                                                                \r"
     ]
    },
    {
     "name": "stdout",
     "output_type": "stream",
     "text": [
      "+------------+----------+\n",
      "|total_salary|avg_salary|\n",
      "+------------+----------+\n",
      "|       11500|    2875.0|\n",
      "+------------+----------+\n",
      "\n"
     ]
    },
    {
     "name": "stderr",
     "output_type": "stream",
     "text": [
      "[Stage 75:=============================>                            (1 + 1) / 2]\r"
     ]
    },
    {
     "name": "stdout",
     "output_type": "stream",
     "text": [
      "+----------+------------+----------+\n",
      "|department|total_salary|avg_salary|\n",
      "+----------+------------+----------+\n",
      "|        IT|        7000|    3500.0|\n",
      "|        HR|        4500|    2250.0|\n",
      "+----------+------------+----------+\n",
      "\n"
     ]
    },
    {
     "name": "stderr",
     "output_type": "stream",
     "text": [
      "                                                                                \r"
     ]
    }
   ],
   "source": [
    "#يعني اي agg \n",
    "data = [\n",
    "    (\"Ahmed\", \"IT\", 3000),\n",
    "    (\"Sara\", \"IT\", 4000),\n",
    "    (\"Ali\", \"HR\", 2000),\n",
    "    (\"Mona\", \"HR\", 2500)\n",
    "]\n",
    "\n",
    "columns = [\"name\", \"department\", \"salary\"]\n",
    "\n",
    "df = spark.createDataFrame(data, columns)\n",
    "df.show()\n",
    "\n",
    "\n",
    "# تجميع بدون group by\n",
    "from pyspark.sql import functions as F\n",
    "\n",
    "df.agg(\n",
    "    F.sum(\"salary\").alias(\"total_salary\"),\n",
    "    F.avg(\"salary\").alias(\"avg_salary\")\n",
    ").show()\n",
    "\n",
    "\n",
    "# تجميع مع group by \n",
    "df.groupBy(\"department\").agg(\n",
    "    F.sum(\"salary\").alias(\"total_salary\"),\n",
    "    F.avg(\"salary\").alias(\"avg_salary\")\n",
    ").show()\n",
    "\n"
   ]
  },
  {
   "cell_type": "markdown",
   "id": "9fe71550",
   "metadata": {},
   "source": [
    "git data from json file \n",
    "--------------------------"
   ]
  },
  {
   "cell_type": "code",
   "execution_count": null,
   "id": "1d52a7a0",
   "metadata": {},
   "outputs": [
    {
     "name": "stdout",
     "output_type": "stream",
     "text": [
      "+--------------------+----+-------+\n",
      "|     _corrupt_record| age|   name|\n",
      "+--------------------+----+-------+\n",
      "|[ {\"name\": \"ahmed...|NULL|   NULL|\n",
      "|                NULL|  34|mohamed|\n",
      "|                NULL|  22|   sara|\n",
      "+--------------------+----+-------+\n",
      "\n",
      "+-------+\n",
      "|   name|\n",
      "+-------+\n",
      "|   NULL|\n",
      "|mohamed|\n",
      "|   sara|\n",
      "+-------+\n",
      "\n"
     ]
    }
   ],
   "source": [
    "df=spark.read.json('/home/ahmed-refat/Downloads/people.json')\n",
    "\n",
    "df.show()\n",
    "name=df['name']\n",
    "# استخدام sql statments\n",
    "df.select('name').show()"
   ]
  },
  {
   "cell_type": "code",
   "execution_count": null,
   "id": "14804d15",
   "metadata": {},
   "outputs": [
    {
     "name": "stdout",
     "output_type": "stream",
     "text": [
      "+-------+\n",
      "|   name|\n",
      "+-------+\n",
      "|   NULL|\n",
      "|mohamed|\n",
      "|   sara|\n",
      "+-------+\n",
      "\n"
     ]
    }
   ],
   "source": []
  },
  {
   "cell_type": "code",
   "execution_count": null,
   "id": "4c76c3be",
   "metadata": {},
   "outputs": [],
   "source": []
  }
 ],
 "metadata": {
  "kernelspec": {
   "display_name": "pyspark_env",
   "language": "python",
   "name": "python3"
  },
  "language_info": {
   "codemirror_mode": {
    "name": "ipython",
    "version": 3
   },
   "file_extension": ".py",
   "mimetype": "text/x-python",
   "name": "python",
   "nbconvert_exporter": "python",
   "pygments_lexer": "ipython3",
   "version": "3.10.18"
  }
 },
 "nbformat": 4,
 "nbformat_minor": 5
}
