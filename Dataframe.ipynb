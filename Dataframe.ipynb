{
 "cells": [
  {
   "cell_type": "markdown",
   "id": "4d423d72",
   "metadata": {},
   "source": [
    "اشهر اربع مكتبات في spark\n",
    "---------------------------------\n",
    "\n",
    "1. spark sql :- data stucture by sql لمعالجه البيانات المهيكله     \n",
    "2. spark streaming :-  to provess the flow of the data in the real time streaming\n",
    "3. MLlib :- to machine learning that built in spark \n",
    "4. GraphX :-  to process and anlysis the data in graph form "
   ]
  },
  {
   "cell_type": "code",
   "execution_count": 48,
   "id": "b58ba69c",
   "metadata": {},
   "outputs": [
    {
     "data": {
      "text/plain": [
       "[('Brooke', 20),\n",
       " ('Denny', 31),\n",
       " ('Jules', 30),\n",
       " ('TD', 35),\n",
       " ('Brooke', 25),\n",
       " ('Jules', 30),\n",
       " ('Denny', 51),\n",
       " ('TD', 15)]"
      ]
     },
     "execution_count": 48,
     "metadata": {},
     "output_type": "execute_result"
    }
   ],
   "source": [
    "import findspark\n",
    "findspark.init()\n",
    "from pyspark.sql import SparkSession \n",
    "spark = SparkSession.builder.getOrCreate()\n",
    "\n",
    "sc= spark.sparkContext\n",
    "#RDD\n",
    "dataRDD= sc.parallelize([(\"Brooke\",20),(\"Denny\",31),(\"Jules\",30),(\"TD\",35),(\"Brooke\",25),(\"Jules\",30),(\"Denny\",51),(\"TD\",15)])\n",
    "\n",
    "dataRDD.collect()"
   ]
  },
  {
   "cell_type": "code",
   "execution_count": 2,
   "id": "8020e6c4",
   "metadata": {},
   "outputs": [
    {
     "name": "stderr",
     "output_type": "stream",
     "text": [
      "                                                                                \r"
     ]
    },
    {
     "name": "stdout",
     "output_type": "stream",
     "text": [
      "+------+---+\n",
      "|  name|age|\n",
      "+------+---+\n",
      "|Brooke| 20|\n",
      "| Denny| 31|\n",
      "| Jules| 30|\n",
      "|    TD| 35|\n",
      "|Brooke| 25|\n",
      "+------+---+\n",
      "only showing top 5 rows\n"
     ]
    },
    {
     "data": {
      "text/plain": [
       "'Brooke'"
      ]
     },
     "execution_count": 2,
     "metadata": {},
     "output_type": "execute_result"
    }
   ],
   "source": [
    "data_frame= spark.createDataFrame([(\"Brooke\",20),(\"Denny\",31),(\"Jules\",30),(\"TD\",35),\n",
    "(\"Brooke\",25),(\"Jules\",30),(\"Denny\",51),(\"TD\",15)],[\"name\",\"age\"])\n",
    "\n",
    "#data_frame.printSchema()\n",
    "#data_frame.show()  \n",
    "data_frame.show(5)  \n",
    "r=data_frame.collect()[0]\n",
    "r.name"
   ]
  },
  {
   "cell_type": "code",
   "execution_count": 5,
   "id": "cb06e2e4",
   "metadata": {},
   "outputs": [
    {
     "name": "stderr",
     "output_type": "stream",
     "text": [
      "                                                                                \r"
     ]
    },
    {
     "name": "stdout",
     "output_type": "stream",
     "text": [
      "+------+--------+\n",
      "|  name|avg(age)|\n",
      "+------+--------+\n",
      "|Brooke|    22.5|\n",
      "| Jules|    30.0|\n",
      "|    TD|    25.0|\n",
      "| Denny|    41.0|\n",
      "+------+--------+\n",
      "\n"
     ]
    },
    {
     "name": "stderr",
     "output_type": "stream",
     "text": [
      "                                                                                \r"
     ]
    },
    {
     "data": {
      "text/plain": [
       "[Row(name='Brooke', avg(age)=22.5), Row(name='Jules', avg(age)=30.0)]"
      ]
     },
     "execution_count": 5,
     "metadata": {},
     "output_type": "execute_result"
    }
   ],
   "source": [
    "# استخدام group by عشان اعمل متوسط عن طريق العمر \n",
    " \n",
    "avg_age=data_frame.groupBy('name').avg('age')\n",
    "avg_age.show()\n",
    "\n",
    "# عشان اعرف عدد البرتشننز الي هو 1 بس \n",
    "avg_age.rdd.getNumPartitions() # فوق كان في 2 بارتشن بس هنا 1 بس لانه عمل جروب باي يعني عمل شفل بين الي فوق عشان يطلع ببرتشن واحد بس \n",
    "\n",
    "avg_age.head(2)\n"
   ]
  },
  {
   "cell_type": "markdown",
   "id": "150207c5",
   "metadata": {},
   "source": [
    "agg function \n",
    "------------"
   ]
  },
  {
   "cell_type": "code",
   "execution_count": null,
   "id": "f88e3903",
   "metadata": {},
   "outputs": [
    {
     "name": "stderr",
     "output_type": "stream",
     "text": [
      "                                                                                \r"
     ]
    },
    {
     "name": "stdout",
     "output_type": "stream",
     "text": [
      "+-----+----------+------+\n",
      "| name|department|salary|\n",
      "+-----+----------+------+\n",
      "|Ahmed|        IT|  3000|\n",
      "| Sara|        IT|  4000|\n",
      "|  Ali|        HR|  2000|\n",
      "| Mona|        HR|  2500|\n",
      "+-----+----------+------+\n",
      "\n"
     ]
    },
    {
     "name": "stderr",
     "output_type": "stream",
     "text": [
      "                                                                                \r"
     ]
    },
    {
     "name": "stdout",
     "output_type": "stream",
     "text": [
      "+------------+----------+\n",
      "|total_salary|avg_salary|\n",
      "+------------+----------+\n",
      "|       11500|    2875.0|\n",
      "+------------+----------+\n",
      "\n"
     ]
    },
    {
     "name": "stderr",
     "output_type": "stream",
     "text": [
      "[Stage 75:=============================>                            (1 + 1) / 2]\r"
     ]
    },
    {
     "name": "stdout",
     "output_type": "stream",
     "text": [
      "+----------+------------+----------+\n",
      "|department|total_salary|avg_salary|\n",
      "+----------+------------+----------+\n",
      "|        IT|        7000|    3500.0|\n",
      "|        HR|        4500|    2250.0|\n",
      "+----------+------------+----------+\n",
      "\n"
     ]
    },
    {
     "name": "stderr",
     "output_type": "stream",
     "text": [
      "                                                                                \r"
     ]
    }
   ],
   "source": [
    "#يعني اي agg \n",
    "data = [\n",
    "    (\"Ahmed\", \"IT\", 3000),\n",
    "    (\"Sara\", \"IT\", 4000),\n",
    "    (\"Ali\", \"HR\", 2000),\n",
    "    (\"Mona\", \"HR\", 2500)\n",
    "]\n",
    "\n",
    "columns = [\"name\", \"department\", \"salary\"]\n",
    "\n",
    "df = spark.createDataFrame(data, columns)\n",
    "df.show()\n",
    "\n",
    "\n",
    "# تجميع بدون group by\n",
    "from pyspark.sql import functions as F\n",
    "\n",
    "df.agg(\n",
    "    F.sum(\"salary\").alias(\"total_salary\"),\n",
    "    F.avg(\"salary\").alias(\"avg_salary\")\n",
    ").show()\n",
    "\n",
    "\n",
    "# تجميع مع group by \n",
    "df.groupBy(\"department\").agg(\n",
    "    F.sum(\"salary\").alias(\"total_salary\"),\n",
    "    F.avg(\"salary\").alias(\"avg_salary\")\n",
    ").show()\n",
    "\n"
   ]
  },
  {
   "cell_type": "markdown",
   "id": "9fe71550",
   "metadata": {},
   "source": [
    "git data from json file \n",
    "--------------------------"
   ]
  },
  {
   "cell_type": "code",
   "execution_count": null,
   "id": "1d52a7a0",
   "metadata": {},
   "outputs": [
    {
     "name": "stdout",
     "output_type": "stream",
     "text": [
      "+---+\n",
      "|age|\n",
      "+---+\n",
      "| 34|\n",
      "| 22|\n",
      "+---+\n",
      "\n"
     ]
    }
   ],
   "source": [
    "# import col \n",
    "from pyspark.sql.functions import col \n",
    "\n",
    "\n",
    "df=spark.read.json('/home/ahmed-refat/Downloads/people.json')\n",
    "name=df['name']\n",
    "\n",
    "# استخدام sql statments\n",
    "df.select('name')\n",
    "df_age =df.select('age')\n",
    "\n",
    "# where condition\n",
    "df_age.where(col('age')>20).show()\n"
   ]
  },
  {
   "cell_type": "markdown",
   "id": "cfdade4c",
   "metadata": {},
   "source": [
    "=================================================================================================================="
   ]
  },
  {
   "cell_type": "markdown",
   "id": "6809196b",
   "metadata": {},
   "source": [
    "تجربه التعامل مع داتا فريم كامله \n",
    "------------------------------"
   ]
  },
  {
   "cell_type": "code",
   "execution_count": 49,
   "id": "b76618de",
   "metadata": {},
   "outputs": [],
   "source": [
    "from pyspark.sql.functions import *\n",
    "import pyspark.sql.functions as fn # دي احسن من الي فوق عشان ميبقاش في مضاربه مع البايثون نفسهالا"
   ]
  },
  {
   "cell_type": "code",
   "execution_count": 52,
   "id": "2dc670de",
   "metadata": {},
   "outputs": [
    {
     "name": "stdout",
     "output_type": "stream",
     "text": [
      "+---+-----+-------+-----------+-----+\n",
      "|id |name |salary |department |years|\n",
      "+---+-----+-------+-----------+-----+\n",
      "|1  |Ahmed|25000.0|sales      |2    |\n",
      "|2  |Mona |32000.0|sales      |5    |\n",
      "|3  |Omar |28000.0|engineering|3    |\n",
      "|4  |Sara |40000.0|engineering|7    |\n",
      "|5  |Hany |15000.0|hr         |1    |\n",
      "|6  |Nora |22000.0|hr         |4    |\n",
      "+---+-----+-------+-----------+-----+\n",
      "\n",
      "root\n",
      " |-- id: long (nullable = true)\n",
      " |-- name: string (nullable = true)\n",
      " |-- salary: double (nullable = true)\n",
      " |-- department: string (nullable = true)\n",
      " |-- years: long (nullable = true)\n",
      "\n"
     ]
    }
   ],
   "source": [
    "from pyspark.sql import SparkSession\n",
    "import pyspark.sql.functions as fn\n",
    "\n",
    "spark = SparkSession.builder.appName(\"HandsOnDF\").getOrCreate()\n",
    "\n",
    "data = [\n",
    "    (1, \"Ahmed\", 25000.0, \"sales\", 2),\n",
    "    (2, \"Mona\", 32000.0, \"sales\", 5),\n",
    "    (3, \"Omar\", 28000.0, \"engineering\", 3),\n",
    "    (4, \"Sara\", 40000.0, \"engineering\", 7),\n",
    "    (5, \"Hany\", 15000.0, \"hr\", 1),\n",
    "    (6, \"Nora\", 22000.0, \"hr\", 4)\n",
    "]\n",
    "\n",
    "cols = [\"id\", \"name\", \"salary\", \"department\", \"years\"]\n",
    "\n",
    "df = spark.createDataFrame(data, cols,)\n",
    "df.show(truncate=False) # اعرض كل الداتا من غير متقص حاجه لان غالبا show بتديني اول 20 بس \n",
    "df.printSchema()\n"
   ]
  },
  {
   "cell_type": "code",
   "execution_count": 53,
   "id": "f523a65f",
   "metadata": {},
   "outputs": [
    {
     "name": "stdout",
     "output_type": "stream",
     "text": [
      "+---+-----+-------+-----------+-----+------+----------+----------------+\n",
      "| id| name| salary| department|years| bonus|total_comp|salary_plus_5pct|\n",
      "+---+-----+-------+-----------+-----+------+----------+----------------+\n",
      "|  1|Ahmed|25000.0|      sales|    2|2500.0|   27500.0|         26250.0|\n",
      "|  2| Mona|32000.0|      sales|    5|3200.0|   35200.0|         33600.0|\n",
      "|  3| Omar|28000.0|engineering|    3|2800.0|   30800.0|         29400.0|\n",
      "|  4| Sara|40000.0|engineering|    7|4000.0|   44000.0|         42000.0|\n",
      "|  5| Hany|15000.0|         hr|    1|1500.0|   16500.0|         15750.0|\n",
      "|  6| Nora|22000.0|         hr|    4|2200.0|   24200.0|         23100.0|\n",
      "+---+-----+-------+-----------+-----+------+----------+----------------+\n",
      "\n"
     ]
    }
   ],
   "source": [
    "# Step 1: عمليات حسابية وwithColumn\n",
    "# 1. bonus = 10% of salary\n",
    "df = df.withColumn(\"bonus\", fn.col(\"salary\") * 0.10)\n",
    "\n",
    "# 2. total_comp = salary + bonus\n",
    "df = df.withColumn(\"total_comp\", fn.col(\"salary\") + fn.col(\"bonus\"))\n",
    "\n",
    "# 3. مثال تعديل: زيادة salary بنسبة 5% ثم نحفظه في عمود جديد\n",
    "df = df.withColumn(\"salary_plus_5pct\", fn.col(\"salary\") * 1.05)\n",
    "\n",
    "df.show()\n"
   ]
  },
  {
   "cell_type": "code",
   "execution_count": 54,
   "id": "ea1a830b",
   "metadata": {},
   "outputs": [
    {
     "name": "stderr",
     "output_type": "stream",
     "text": [
      "                                                                                \r"
     ]
    },
    {
     "name": "stdout",
     "output_type": "stream",
     "text": [
      "+---+-----+-------+-----------+-----+------+----------+----------------+------+------+---------+\n",
      "| id| name| salary| department|years| bonus|total_comp|salary_plus_5pct|county| level|   status|\n",
      "+---+-----+-------+-----------+-----+------+----------+----------------+------+------+---------+\n",
      "|  1|Ahmed|25000.0|      sales|    2|2500.0|   27500.0|         26250.0| egypt|junior|   normal|\n",
      "|  2| Mona|32000.0|      sales|    5|3200.0|   35200.0|         33600.0| egypt|senior|top sales|\n",
      "|  3| Omar|28000.0|engineering|    3|2800.0|   30800.0|         29400.0| egypt|junior|   normal|\n",
      "|  4| Sara|40000.0|engineering|    7|4000.0|   44000.0|         42000.0| egypt|senior|   normal|\n",
      "|  5| Hany|15000.0|         hr|    1|1500.0|   16500.0|         15750.0| egypt|junior|   normal|\n",
      "|  6| Nora|22000.0|         hr|    4|2200.0|   24200.0|         23100.0| egypt|junior|   normal|\n",
      "+---+-----+-------+-----------+-----+------+----------+----------------+------+------+---------+\n",
      "\n"
     ]
    }
   ],
   "source": [
    "# اضافه عمود ثابت القيمه \n",
    "df= df.withColumn('county',fn.lit('egypt'))\n",
    "\n",
    "# اضافه عمود جديد فيها جنيور واو سنيور علي حسب هو اكتر من 5 سنين خيره او لا \n",
    "\n",
    "df=df.withColumn('level',\n",
    "                 fn.when(fn.col('years')>= 5,'senior').otherwise('junior'))\n",
    "\n",
    "\n",
    "# use and & , or |\n",
    "\n",
    "df = df.withColumn('status',\n",
    "                   fn.when((fn.col('salary')>= 30000)  & (fn.col('department')== 'sales'),'top sales' ).otherwise('normal')\n",
    "\n",
    ")\n",
    "\n",
    "df.show()"
   ]
  },
  {
   "cell_type": "code",
   "execution_count": 55,
   "id": "df5c791f",
   "metadata": {},
   "outputs": [
    {
     "name": "stderr",
     "output_type": "stream",
     "text": [
      "                                                                                \r"
     ]
    },
    {
     "name": "stdout",
     "output_type": "stream",
     "text": [
      "+---+-----+-------+-----------+-----+------+----------+----------------+------+------+---------+----------+----------------+------------+\n",
      "|id |name |salary |department |years|bonus |total_comp|salary_plus_5pct|county|level |status   |name_upper|department_lower|name_initcap|\n",
      "+---+-----+-------+-----------+-----+------+----------+----------------+------+------+---------+----------+----------------+------------+\n",
      "|1  |Ahmed|25000.0|sales      |2    |2500.0|27500.0   |26250.0         |egypt |junior|normal   |AHMED     |sales           |Ahmed       |\n",
      "|2  |Mona |32000.0|sales      |5    |3200.0|35200.0   |33600.0         |egypt |senior|top sales|MONA      |sales           |Mona        |\n",
      "|3  |Omar |28000.0|engineering|3    |2800.0|30800.0   |29400.0         |egypt |junior|normal   |OMAR      |engineering     |Omar        |\n",
      "|4  |Sara |40000.0|engineering|7    |4000.0|44000.0   |42000.0         |egypt |senior|normal   |SARA      |engineering     |Sara        |\n",
      "|5  |Hany |15000.0|hr         |1    |1500.0|16500.0   |15750.0         |egypt |junior|normal   |HANY      |hr              |Hany        |\n",
      "|6  |Nora |22000.0|hr         |4    |2200.0|24200.0   |23100.0         |egypt |junior|normal   |NORA      |hr              |Nora        |\n",
      "+---+-----+-------+-----------+-----+------+----------+----------------+------+------+---------+----------+----------------+------------+\n",
      "\n"
     ]
    }
   ],
   "source": [
    "# تحويل الاسم كله لحروف كبيرة\n",
    "df = df.withColumn(\"name_upper\", fn.upper(fn.col(\"name\")))\n",
    "\n",
    "# تحويل القسم كله لحروف صغيرة\n",
    "df = df.withColumn(\"department_lower\", fn.lower(fn.col(\"department\")))\n",
    "\n",
    "# الاسم الأول بحرف كبير فقط\n",
    "df = df.withColumn(\"name_initcap\", fn.initcap(fn.col(\"name\")))\n",
    "\n",
    "df.show(truncate=False)\n"
   ]
  },
  {
   "cell_type": "code",
   "execution_count": 56,
   "id": "8424cff8",
   "metadata": {},
   "outputs": [
    {
     "name": "stderr",
     "output_type": "stream",
     "text": [
      "                                                                                \r"
     ]
    },
    {
     "name": "stdout",
     "output_type": "stream",
     "text": [
      "+---+-----+-------+-----------+-----+------+----------+----------------+------+------+---------+----------+----------------+------------+---------------+----------------+\n",
      "| id| name| salary| department|years| bonus|total_comp|salary_plus_5pct|county| level|   status|name_upper|department_lower|name_initcap|       display1|         display|\n",
      "+---+-----+-------+-----------+-----+------+----------+----------------+------+------+---------+----------+----------------+------------+---------------+----------------+\n",
      "|  1|Ahmed|25000.0|      sales|    2|2500.0|   27500.0|         26250.0| egypt|junior|   normal|     AHMED|           sales|       Ahmed|     Ahmedsales|     Ahmed-SALES|\n",
      "|  2| Mona|32000.0|      sales|    5|3200.0|   35200.0|         33600.0| egypt|senior|top sales|      MONA|           sales|        Mona|      Monasales|      Mona-SALES|\n",
      "|  3| Omar|28000.0|engineering|    3|2800.0|   30800.0|         29400.0| egypt|junior|   normal|      OMAR|     engineering|        Omar|Omarengineering|Omar-ENGINEERING|\n",
      "|  4| Sara|40000.0|engineering|    7|4000.0|   44000.0|         42000.0| egypt|senior|   normal|      SARA|     engineering|        Sara|Saraengineering|Sara-ENGINEERING|\n",
      "|  5| Hany|15000.0|         hr|    1|1500.0|   16500.0|         15750.0| egypt|junior|   normal|      HANY|              hr|        Hany|         Hanyhr|         Hany-HR|\n",
      "|  6| Nora|22000.0|         hr|    4|2200.0|   24200.0|         23100.0| egypt|junior|   normal|      NORA|              hr|        Nora|         Norahr|         Nora-HR|\n",
      "+---+-----+-------+-----------+-----+------+----------+----------------+------+------+---------+----------+----------------+------------+---------------+----------------+\n",
      "\n"
     ]
    }
   ],
   "source": [
    "# دمج اعمده مباشر بدون فواصل \n",
    "import pyspark.sql.functions as fn\n",
    "df= df.withColumn('display1',fn.concat(fn.col('name'),fn.col('department')))\n",
    "\n",
    "# دمج مع فصله في المنتصف\n",
    "\n",
    "df =df.withColumn('display',fn.concat_ws('-',fn.col('name'),fn.upper(fn.col('department'))))\n",
    "\n",
    "df.show()"
   ]
  },
  {
   "cell_type": "code",
   "execution_count": 57,
   "id": "3ac88a15",
   "metadata": {},
   "outputs": [
    {
     "name": "stdout",
     "output_type": "stream",
     "text": [
      "+---+-----+-------+----------+-----+------+----------+----------------+------+------+---------+----------+----------------+------------+----------+-----------+\n",
      "|id |name |salary |department|years|bonus |total_comp|salary_plus_5pct|county|level |status   |name_upper|department_lower|name_initcap|display1  |display    |\n",
      "+---+-----+-------+----------+-----+------+----------+----------------+------+------+---------+----------+----------------+------------+----------+-----------+\n",
      "|1  |Ahmed|25000.0|sales     |2    |2500.0|27500.0   |26250.0         |egypt |junior|normal   |AHMED     |sales           |Ahmed       |Ahmedsales|Ahmed-SALES|\n",
      "|2  |Mona |32000.0|sales     |5    |3200.0|35200.0   |33600.0         |egypt |senior|top sales|MONA      |sales           |Mona        |Monasales |Mona-SALES |\n",
      "+---+-----+-------+----------+-----+------+----------+----------------+------+------+---------+----------+----------------+------------+----------+-----------+\n",
      "\n"
     ]
    }
   ],
   "source": [
    "# whenهنعمل فيلتر ويعتبر هو هونفس التاثير بتاع \n",
    "df.filter(fn.col(\"department\") == \"sales\").show(truncate=False)\n"
   ]
  },
  {
   "cell_type": "code",
   "execution_count": null,
   "id": "4cf6395c",
   "metadata": {},
   "outputs": [
    {
     "name": "stderr",
     "output_type": "stream",
     "text": [
      "                                                                                \r"
     ]
    },
    {
     "name": "stdout",
     "output_type": "stream",
     "text": [
      "+-------------+----------+\n",
      "|employee_name|total_comp|\n",
      "+-------------+----------+\n",
      "|Ahmed        |27500.0   |\n",
      "|Mona         |35200.0   |\n",
      "|Omar         |30800.0   |\n",
      "|Sara         |44000.0   |\n",
      "|Hany         |16500.0   |\n",
      "|Nora         |24200.0   |\n",
      "+-------------+----------+\n",
      "\n"
     ]
    }
   ],
   "source": [
    "# select\n",
    "df.select(fn.col(\"name\").alias(\"employee_name\"), \"total_comp\").show(truncate=False)\n",
    "# alias بتغير اسم العمود لاي حاجه انا هكنبها "
   ]
  },
  {
   "cell_type": "code",
   "execution_count": 65,
   "id": "42ecdea2",
   "metadata": {},
   "outputs": [
    {
     "name": "stdout",
     "output_type": "stream",
     "text": [
      "+---+-----+-------+-----------+-----+------+----------+----------------+------+------+---------+----------+----------------+------------+---------------+----------------+\n",
      "| id| name| salary| department|years| bonus|total_comp|salary_plus_5pct|county| level|   status|name_upper|department_lower|name_initcap|       display1|         display|\n",
      "+---+-----+-------+-----------+-----+------+----------+----------------+------+------+---------+----------+----------------+------------+---------------+----------------+\n",
      "|  4| Sara|40000.0|engineering|    7|4000.0|   44000.0|         42000.0| egypt|senior|   normal|      SARA|     engineering|        Sara|Saraengineering|Sara-ENGINEERING|\n",
      "|  3| Omar|28000.0|engineering|    3|2800.0|   30800.0|         29400.0| egypt|junior|   normal|      OMAR|     engineering|        Omar|Omarengineering|Omar-ENGINEERING|\n",
      "|  6| Nora|22000.0|         hr|    4|2200.0|   24200.0|         23100.0| egypt|junior|   normal|      NORA|              hr|        Nora|         Norahr|         Nora-HR|\n",
      "|  5| Hany|15000.0|         hr|    1|1500.0|   16500.0|         15750.0| egypt|junior|   normal|      HANY|              hr|        Hany|         Hanyhr|         Hany-HR|\n",
      "|  2| Mona|32000.0|      sales|    5|3200.0|   35200.0|         33600.0| egypt|senior|top sales|      MONA|           sales|        Mona|      Monasales|      Mona-SALES|\n",
      "|  1|Ahmed|25000.0|      sales|    2|2500.0|   27500.0|         26250.0| egypt|junior|   normal|     AHMED|           sales|       Ahmed|     Ahmedsales|     Ahmed-SALES|\n",
      "+---+-----+-------+-----------+-----+------+----------+----------------+------+------+---------+----------+----------------+------------+---------------+----------------+\n",
      "\n"
     ]
    },
    {
     "name": "stderr",
     "output_type": "stream",
     "text": [
      "                                                                                \r"
     ]
    }
   ],
   "source": [
    "# ترتيب البيانات علي حسب تصاعدي او تنازلي \n",
    "df.orderBy(fn.col('department')) # ترتيب تصاعدي \n",
    "df.orderBy (df['salary'].desc()) #  ترتيب تنازلي \n",
    "\n",
    "\n",
    "\n",
    "# حسب department تصاعدي، و salary تنازلي\n",
    "df.orderBy(df['department'],df['salary'].desc()).show()\n"
   ]
  },
  {
   "cell_type": "code",
   "execution_count": null,
   "id": "b4f29233",
   "metadata": {},
   "outputs": [],
   "source": [
    "# التجميع (Aggregation) باستخدام groupBy + agg\n",
    "\n"
   ]
  }
 ],
 "metadata": {
  "kernelspec": {
   "display_name": "pyspark_env",
   "language": "python",
   "name": "python3"
  },
  "language_info": {
   "codemirror_mode": {
    "name": "ipython",
    "version": 3
   },
   "file_extension": ".py",
   "mimetype": "text/x-python",
   "name": "python",
   "nbconvert_exporter": "python",
   "pygments_lexer": "ipython3",
   "version": "3.10.18"
  }
 },
 "nbformat": 4,
 "nbformat_minor": 5
}
