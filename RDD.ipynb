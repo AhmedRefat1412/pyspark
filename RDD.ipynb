{
 "cells": [
  {
   "cell_type": "code",
   "execution_count": 13,
   "id": "995d365c",
   "metadata": {},
   "outputs": [
    {
     "data": {
      "text/html": [
       "\n",
       "        <div>\n",
       "            <p><b>SparkContext</b></p>\n",
       "\n",
       "            <p><a href=\"http://10.0.2.15:4040\">Spark UI</a></p>\n",
       "\n",
       "            <dl>\n",
       "              <dt>Version</dt>\n",
       "                <dd><code>v4.0.1</code></dd>\n",
       "              <dt>Master</dt>\n",
       "                <dd><code>local[*]</code></dd>\n",
       "              <dt>AppName</dt>\n",
       "                <dd><code>pyspark-shell</code></dd>\n",
       "            </dl>\n",
       "        </div>\n",
       "        "
      ],
      "text/plain": [
       "<SparkContext master=local[*] appName=pyspark-shell>"
      ]
     },
     "execution_count": 13,
     "metadata": {},
     "output_type": "execute_result"
    }
   ],
   "source": [
    "import findspark\n",
    "findspark.init()\n",
    "\n",
    "from pyspark.sql import SparkSession\n",
    "spark= SparkSession.builder.getOrCreate()\n",
    "\n",
    "sc= spark.sparkContext\n",
    "\n",
    "sc\n"
   ]
  },
  {
   "cell_type": "code",
   "execution_count": 2,
   "id": "e1fe5162",
   "metadata": {},
   "outputs": [],
   "source": [
    "import numpy as np\n",
    "data=np.arange(1,51)\n",
    "\n",
    "rdd1 =sc.parallelize(data)\n",
    "rdd2=rdd1.map(lambda x:int(x**2))\n",
    "rdd3= rdd2.map(lambda x :x+20)\n",
    "#ممكن اعمل rdd4 يكون السورس بتاعه من 2\n",
    "rdd4=rdd2.map(lambda x :int(x*2))"
   ]
  },
  {
   "cell_type": "code",
   "execution_count": 7,
   "id": "7cc64a55",
   "metadata": {},
   "outputs": [
    {
     "data": {
      "text/plain": [
       "2"
      ]
     },
     "execution_count": 7,
     "metadata": {},
     "output_type": "execute_result"
    }
   ],
   "source": [
    "# بعرف انا عندي كان برتشن \n",
    "rdd2.getNumPartitions()\n"
   ]
  },
  {
   "cell_type": "code",
   "execution_count": 8,
   "id": "6c3c2509",
   "metadata": {},
   "outputs": [
    {
     "name": "stderr",
     "output_type": "stream",
     "text": [
      "                                                                                \r"
     ]
    },
    {
     "data": {
      "text/plain": [
       "[2, 8, 18, 32, 50, 72, 98, 128, 162, 200]"
      ]
     },
     "execution_count": 8,
     "metadata": {},
     "output_type": "execute_result"
    }
   ],
   "source": [
    "# هنعمل كاش عند rdd2 عشان يحفظ المسار ده عنده \n",
    "# لان اغلب العمليات الي عملتها بعد كده جايه عن طريق المسار ده واما بعملها كاش مش بيتفذ الا مره واحده بس \n",
    "\n",
    "rdd2.cache()\n",
    "# محدش بيعمل كوليكت عشان بتاخد وقت كبير لو الداتا كبيره \n",
    "               # rdd4.collect()\n",
    "\n",
    "#هات الو 10 قيم \n",
    "rdd4.take(10)"
   ]
  },
  {
   "cell_type": "code",
   "execution_count": null,
   "id": "f85ed4e6",
   "metadata": {},
   "outputs": [
    {
     "name": "stderr",
     "output_type": "stream",
     "text": [
      "                                                                                \r"
     ]
    },
    {
     "data": {
      "text/plain": [
       "['first', 'fourth', 'fifth ']"
      ]
     },
     "execution_count": 24,
     "metadata": {},
     "output_type": "execute_result"
    }
   ],
   "source": [
    "# هنجيب الداتا من فايل \n",
    "txtRDD =sc.textFile('/home/ahmed-refat/Desktop/text1.txt')\n",
    "\n",
    "txtRDD.map( lambda l :l.split()).collect()\n",
    "txtRDD.flatMap( lambda l :l.split()).collect()\n",
    "\n",
    "txtRDD.filter( lambda line:'f' in line ).collect() #جيب الكلمه الي فيها حرف اف بس \n"
   ]
  },
  {
   "cell_type": "code",
   "execution_count": 16,
   "id": "33ca3b45",
   "metadata": {},
   "outputs": [
    {
     "data": {
      "text/plain": [
       "[1, 16, 81, 256, 625]"
      ]
     },
     "execution_count": 16,
     "metadata": {},
     "output_type": "execute_result"
    }
   ],
   "source": [
    "def sq(x):\n",
    "    return x**2\n",
    "\n",
    "rdd5=rdd2.map((sq))\n",
    "rdd5.take(5)"
   ]
  },
  {
   "cell_type": "code",
   "execution_count": 5,
   "id": "f7b9dde5",
   "metadata": {},
   "outputs": [
    {
     "name": "stderr",
     "output_type": "stream",
     "text": [
      "                                                                                \r"
     ]
    },
    {
     "data": {
      "text/plain": [
       "['ahmed', 'hadeel', 'asmaa', 'mohamed', 'ali', 'soliman', 'khaled']"
      ]
     },
     "execution_count": 5,
     "metadata": {},
     "output_type": "execute_result"
    }
   ],
   "source": [
    "listname=['ahmed','hadeel','asmaa','mohamed','ali','soliman','khaled']\n",
    "rddnames=sc.parallelize(listname)\n",
    "rddnames.collect()"
   ]
  },
  {
   "cell_type": "code",
   "execution_count": 6,
   "id": "42fac08a",
   "metadata": {},
   "outputs": [
    {
     "name": "stderr",
     "output_type": "stream",
     "text": [
      "                                                                                \r"
     ]
    },
    {
     "data": {
      "text/plain": [
       "[('h', <pyspark.resultiterable.ResultIterable at 0x7f846c595510>),\n",
       " ('s', <pyspark.resultiterable.ResultIterable at 0x7f843003f3d0>),\n",
       " ('a', <pyspark.resultiterable.ResultIterable at 0x7f843003d630>),\n",
       " ('m', <pyspark.resultiterable.ResultIterable at 0x7f843003efb0>),\n",
       " ('k', <pyspark.resultiterable.ResultIterable at 0x7f843003d420>)]"
      ]
     },
     "execution_count": 6,
     "metadata": {},
     "output_type": "execute_result"
    }
   ],
   "source": [
    "rddgroupby=rddnames.groupBy(lambda w : w[0]) # اعمل مجموعات علي حسب اول حرف في الكلمه \n",
    "rddgroupby.collect()\n",
    "\n",
    "\n"
   ]
  },
  {
   "cell_type": "code",
   "execution_count": 37,
   "id": "b1cbb0cf",
   "metadata": {},
   "outputs": [
    {
     "name": "stderr",
     "output_type": "stream",
     "text": [
      "                                                                                \r"
     ]
    },
    {
     "data": {
      "text/plain": [
       "[('b', <pyspark.resultiterable.ResultIterable at 0x7255bae12800>),\n",
       " ('a', <pyspark.resultiterable.ResultIterable at 0x7255bae138b0>)]"
      ]
     },
     "execution_count": 37,
     "metadata": {},
     "output_type": "execute_result"
    }
   ],
   "source": [
    "# لو الداتا عندي key and value \n",
    "\n",
    "rdd =sc.parallelize([('a',1),('b',1),('a',2),('a',3),('a',4),('a',5)])\n",
    "rdd_2=rdd.groupByKey()\n",
    "\n",
    "rdd_2.collect()"
   ]
  },
  {
   "cell_type": "markdown",
   "id": "cadb798c",
   "metadata": {},
   "source": [
    "تطبيق عملي\n",
    "-------------"
   ]
  },
  {
   "cell_type": "code",
   "execution_count": null,
   "id": "d0e307da",
   "metadata": {},
   "outputs": [
    {
     "data": {
      "text/plain": [
       "[('Mobile', 3800.0), ('TV', 3000.0), ('Laptop', 10500.0)]"
      ]
     },
     "execution_count": 33,
     "metadata": {},
     "output_type": "execute_result"
    }
   ],
   "source": [
    "  # هنجيب الداتا من الفايل \n",
    "\n",
    "rdd_raw =sc.textFile('/home/ahmed-refat/Desktop/text1.txt')\n",
    "rdd_clean = rdd_raw.filter(lambda line: len(line.split(\",\")) == 4)\n",
    "\n",
    "# الماب هتخلي كل سطر عباره عن ليست[]\n",
    "rdd_parsed = rdd_clean.map(lambda line: line.split(\",\"))\n",
    "\n",
    "#هنا حولنا البيانات إلى (product, value).\n",
    "rdd_sales = rdd_parsed.map(lambda x: (x[2], float(x[3])))  # (product, amount)\n",
    "\n",
    "#reduceByKey() بتجمع القيم اللي ليها نفس المفتاح (هنا المنتج).\n",
    "rdd_total_sales = rdd_sales.reduceByKey(lambda a, b: a + b)\n",
    "\n",
    "\n",
    "rdd_total_sales.collect() \n",
    "rdd_parsed.collect() \n",
    "\n",
    "\n",
    "for product, total in rdd_total_sales.collect():\n",
    "    print(product, total)\n",
    "\n"
   ]
  },
  {
   "cell_type": "code",
   "execution_count": null,
   "id": "1ba7cc7a",
   "metadata": {},
   "outputs": [],
   "source": []
  }
 ],
 "metadata": {
  "kernelspec": {
   "display_name": "pyspark_env",
   "language": "python",
   "name": "python3"
  },
  "language_info": {
   "codemirror_mode": {
    "name": "ipython",
    "version": 3
   },
   "file_extension": ".py",
   "mimetype": "text/x-python",
   "name": "python",
   "nbconvert_exporter": "python",
   "pygments_lexer": "ipython3",
   "version": "3.10.18"
  }
 },
 "nbformat": 4,
 "nbformat_minor": 5
}
