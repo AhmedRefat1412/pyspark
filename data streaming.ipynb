{
 "cells": [
  {
   "cell_type": "code",
   "execution_count": 1,
   "id": "abedf0d5",
   "metadata": {},
   "outputs": [
    {
     "name": "stderr",
     "output_type": "stream",
     "text": [
      "WARNING: Using incubator modules: jdk.incubator.vector\n",
      "Using Spark's default log4j profile: org/apache/spark/log4j2-defaults.properties\n",
      "25/10/29 00:30:16 WARN Utils: Your hostname, ahmed-refat-VirtualBox, resolves to a loopback address: 127.0.1.1; using 10.0.2.15 instead (on interface enp0s3)\n",
      "25/10/29 00:30:16 WARN Utils: Set SPARK_LOCAL_IP if you need to bind to another address\n",
      "Using Spark's default log4j profile: org/apache/spark/log4j2-defaults.properties\n",
      "Setting default log level to \"WARN\".\n",
      "To adjust logging level use sc.setLogLevel(newLevel). For SparkR, use setLogLevel(newLevel).\n",
      "25/10/29 00:30:19 WARN NativeCodeLoader: Unable to load native-hadoop library for your platform... using builtin-java classes where applicable\n"
     ]
    }
   ],
   "source": [
    "from pyspark.sql import SparkSession\n",
    "\n",
    "# إنشاء SparkSession\n",
    "spark = SparkSession.builder \\\n",
    "    .appName(\"NullHandlingExample\") \\\n",
    "    .getOrCreate()\n",
    "from pyspark.sql import SparkSession\n",
    "\n",
    "# إنشاء SparkSession\n",
    "spark = SparkSession.builder \\\n",
    "    .appName(\"NullHandlingExample\") \\\n",
    "    .getOrCreate()\n"
   ]
  },
  {
   "cell_type": "code",
   "execution_count": 2,
   "id": "c5e41b78",
   "metadata": {},
   "outputs": [
    {
     "name": "stderr",
     "output_type": "stream",
     "text": [
      "25/10/29 00:32:02 WARN TextSocketSourceProvider: The socket source should not be used for production applications! It does not support recovery.\n"
     ]
    },
    {
     "data": {
      "text/plain": [
       "DataFrame[value: string]"
      ]
     },
     "execution_count": 2,
     "metadata": {},
     "output_type": "execute_result"
    }
   ],
   "source": [
    "# هنا بنريد  الاستريم من الجهاز عن طريق السوكيت  \n",
    "# ونقدر نعمل كده لو كتبا في التريمينل كده\n",
    "# nc  -l 1412                 -----1412  are port  numberr\n",
    "\n",
    "df=spark.readStream.format('socket')\\\n",
    "    .option('host','localhost')\\\n",
    "        .option('port',1412).load()\n",
    "df"
   ]
  },
  {
   "cell_type": "code",
   "execution_count": null,
   "id": "e980b023",
   "metadata": {},
   "outputs": [
    {
     "name": "stderr",
     "output_type": "stream",
     "text": [
      "25/10/29 00:26:04 WARN TextSocketSourceProvider: The socket source should not be used for production applications! It does not support recovery.\n",
      "25/10/29 00:26:04 WARN ResolveWriteToStream: Temporary checkpoint location created which is deleted normally when the query didn't fail: /tmp/temporary-028c24ff-3004-4840-888a-109e3abcdc14. If it's required to delete it under any circumstances, please set spark.sql.streaming.forceDeleteTempCheckpointLocation to true. Important to know deleting temp checkpoint folder is best effort.\n",
      "25/10/29 00:26:04 WARN ResolveWriteToStream: spark.sql.adaptive.enabled is not supported in streaming DataFrames/Datasets and will be disabled.\n"
     ]
    }
   ],
   "source": [
    "# هنا  بنعمل رايت ل الدااتا وبنعمل تريجر ل عشان يروح يششوف الداتاكل 5 ثوواني \n",
    "writer = df.writeStream.outputMode(\"append\").format(\"console\").trigger(processingTime=\"5 seconds\")\n",
    "#query.awaitTermination()\n",
    "query= writer.start()"
   ]
  },
  {
   "cell_type": "code",
   "execution_count": 21,
   "id": "14653ec7",
   "metadata": {},
   "outputs": [],
   "source": [
    "# لو هنوقف الاستريم \n",
    "#query.stop()"
   ]
  },
  {
   "cell_type": "markdown",
   "id": "73878911",
   "metadata": {},
   "source": [
    "socket هنعمل مثال كامل مع  \n",
    "---------------\n",
    "الهدف من الموضوع اني استقبل استريم جي من اللوكل من البورت الي انا حدتته الي هو 1412\n",
    "وبعدين هقسم كل رساله تجيلي من الاستريم ل كلامات واعدها \n",
    "وبعدين اعملها جرب باي بحيث يظهر كل جمله جات وجمبها عدد الكلمات الي فيها\n",
    "وبعدين اعمل رايت بقا واعرض الداتا فريم دي في الكونسل \n"
   ]
  },
  {
   "cell_type": "code",
   "execution_count": 1,
   "id": "1e19075d",
   "metadata": {},
   "outputs": [
    {
     "name": "stderr",
     "output_type": "stream",
     "text": [
      "WARNING: Using incubator modules: jdk.incubator.vector\n",
      "Using Spark's default log4j profile: org/apache/spark/log4j2-defaults.properties\n",
      "25/10/30 03:46:07 WARN Utils: Your hostname, ahmed-refat-VirtualBox, resolves to a loopback address: 127.0.1.1; using 10.0.2.15 instead (on interface enp0s3)\n",
      "25/10/30 03:46:07 WARN Utils: Set SPARK_LOCAL_IP if you need to bind to another address\n",
      "Using Spark's default log4j profile: org/apache/spark/log4j2-defaults.properties\n",
      "Setting default log level to \"WARN\".\n",
      "To adjust logging level use sc.setLogLevel(newLevel). For SparkR, use setLogLevel(newLevel).\n",
      "25/10/30 03:46:15 WARN NativeCodeLoader: Unable to load native-hadoop library for your platform... using builtin-java classes where applicable\n"
     ]
    }
   ],
   "source": [
    "from pyspark.sql import SparkSession\n",
    "\n",
    "spark = SparkSession.builder \\\n",
    "    .appName(\"SocketStreamExample\") \\\n",
    "    .getOrCreate()\n"
   ]
  },
  {
   "cell_type": "code",
   "execution_count": null,
   "id": "45808012",
   "metadata": {},
   "outputs": [
    {
     "name": "stderr",
     "output_type": "stream",
     "text": [
      "25/10/30 03:47:00 WARN TextSocketSourceProvider: The socket source should not be used for production applications! It does not support recovery.\n"
     ]
    }
   ],
   "source": [
    "#“استقبل الداتا اللي جاية على الجهاز المحلي (localhost) من البورت رقم 1412”.\n",
    "df = spark.readStream \\\n",
    "    .format(\"socket\") \\\n",
    "    .option(\"host\", \"localhost\") \\\n",
    "    .option(\"port\", 1412) \\\n",
    "    .load()\n"
   ]
  },
  {
   "cell_type": "code",
   "execution_count": 4,
   "id": "94bba1f8",
   "metadata": {},
   "outputs": [],
   "source": [
    "# هنبدء نقسم البيانات الي جايه ل كلمات \n",
    "# explode :- put every word in row\n",
    "# split :- split every sentacs to words \n",
    "import pyspark.sql.functions as fn\n",
    "\n",
    "words = df.select(fn.explode(fn.split(df.value, \" \").alias(\"word\")))"
   ]
  },
  {
   "cell_type": "code",
   "execution_count": null,
   "id": "259af3c4",
   "metadata": {},
   "outputs": [],
   "source": [
    "# groub by\n",
    "from pyspark.sql.functions import count\n",
    "\n",
    "words_count =words .groupBy('word').count()\n",
    "\n",
    "# 5️⃣ نطبع الناتج على الكونسول كل 10 ثواني\n",
    "query = words_count .writeStream \\\n",
    "    .outputMode('complete')\\\n",
    "    .format('consol')\\\n",
    "    .trigger(processingTime='10 seconds')\\\n",
    "    .start()"
   ]
  },
  {
   "cell_type": "code",
   "execution_count": null,
   "id": "64c7259b",
   "metadata": {},
   "outputs": [
    {
     "name": "stderr",
     "output_type": "stream",
     "text": [
      "                                                                                \r"
     ]
    },
    {
     "name": "stdout",
     "output_type": "stream",
     "text": [
      "-------------------------------------------\n",
      "Batch: 0\n",
      "-------------------------------------------\n",
      "+----+-----+\n",
      "|word|count|\n",
      "+----+-----+\n",
      "+----+-----+\n",
      "\n"
     ]
    },
    {
     "name": "stderr",
     "output_type": "stream",
     "text": [
      "                                                                                \r"
     ]
    },
    {
     "name": "stdout",
     "output_type": "stream",
     "text": [
      "-------------------------------------------\n",
      "Batch: 5\n",
      "-------------------------------------------\n",
      "+--------+-----+\n",
      "|    word|count|\n",
      "+--------+-----+\n",
      "|    1412|    1|\n",
      "|   refat|    2|\n",
      "|     you|    1|\n",
      "|     how|    1|\n",
      "|   hello|    1|\n",
      "|   ahmed|    2|\n",
      "|    gggh|    1|\n",
      "|      is|    1|\n",
      "|      ok|    1|\n",
      "|    aggg|    1|\n",
      "|     are|    1|\n",
      "|straming|    1|\n",
      "|        |    4|\n",
      "|    this|    1|\n",
      "| message|    1|\n",
      "+--------+-----+\n",
      "\n"
     ]
    }
   ],
   "source": [
    "# 1️⃣ نبدأ بـ SparkSession\n",
    "from pyspark.sql import SparkSession\n",
    "from pyspark.sql.functions import explode, split\n",
    "\n",
    "spark = SparkSession.builder \\\n",
    "    .appName(\"SocketStreamingExample\") \\\n",
    "    .getOrCreate()\n",
    "\n",
    "\n",
    "# 2️⃣ نقرأ البيانات من socket\n",
    "# تأكد إنك مشغل nc أولاً في التيرمنال التاني:\n",
    "# nc -lk 1412\n",
    "lines = spark.readStream \\\n",
    "    .format(\"socket\") \\\n",
    "    .option(\"host\", \"localhost\") \\\n",
    "    .option(\"port\", 1412) \\\n",
    "    .load()\n",
    "\n",
    "# 3️⃣ قسم كل سطر لكلمات منفصلة\n",
    "words = lines.select(explode(split(lines.value, \" \")).alias(\"word\"))\n",
    "\n",
    "# هنا بنسمي العمود الجديد \"word\"\n",
    "# لو نسيت الـ alias(\"word\") هيتسمى col وهتظهر نفس الغلطة اللي جاتلك\n",
    "\n",
    "# 4️⃣ نحسب عدد مرات ظهور كل كلمة\n",
    "from pyspark.sql.functions import count\n",
    "\n",
    "words_count = words.groupBy(\"word\").count()\n",
    "\n",
    "# 5️⃣ نطبع الناتج على الكونسول كل 10 ثواني\n",
    "query = words_count.writeStream \\\n",
    "    .outputMode(\"complete\") \\\n",
    "    .format(\"console\") \\\n",
    "    .trigger(processingTime=\"10 seconds\") \\\n",
    "    .start()\n",
    "\n"
   ]
  },
  {
   "cell_type": "code",
   "execution_count": 15,
   "id": "205f2387",
   "metadata": {},
   "outputs": [],
   "source": [
    "query .stop()"
   ]
  },
  {
   "cell_type": "code",
   "execution_count": null,
   "id": "37f0b02e",
   "metadata": {},
   "outputs": [],
   "source": []
  }
 ],
 "metadata": {
  "kernelspec": {
   "display_name": "pyspark_env",
   "language": "python",
   "name": "python3"
  },
  "language_info": {
   "codemirror_mode": {
    "name": "ipython",
    "version": 3
   },
   "file_extension": ".py",
   "mimetype": "text/x-python",
   "name": "python",
   "nbconvert_exporter": "python",
   "pygments_lexer": "ipython3",
   "version": "3.10.18"
  }
 },
 "nbformat": 4,
 "nbformat_minor": 5
}
