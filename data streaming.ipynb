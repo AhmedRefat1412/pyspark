{
 "cells": [
  {
   "cell_type": "code",
   "execution_count": 1,
   "id": "abedf0d5",
   "metadata": {},
   "outputs": [
    {
     "name": "stderr",
     "output_type": "stream",
     "text": [
      "WARNING: Using incubator modules: jdk.incubator.vector\n",
      "Using Spark's default log4j profile: org/apache/spark/log4j2-defaults.properties\n",
      "25/10/29 00:30:16 WARN Utils: Your hostname, ahmed-refat-VirtualBox, resolves to a loopback address: 127.0.1.1; using 10.0.2.15 instead (on interface enp0s3)\n",
      "25/10/29 00:30:16 WARN Utils: Set SPARK_LOCAL_IP if you need to bind to another address\n",
      "Using Spark's default log4j profile: org/apache/spark/log4j2-defaults.properties\n",
      "Setting default log level to \"WARN\".\n",
      "To adjust logging level use sc.setLogLevel(newLevel). For SparkR, use setLogLevel(newLevel).\n",
      "25/10/29 00:30:19 WARN NativeCodeLoader: Unable to load native-hadoop library for your platform... using builtin-java classes where applicable\n"
     ]
    }
   ],
   "source": [
    "from pyspark.sql import SparkSession\n",
    "\n",
    "# إنشاء SparkSession\n",
    "spark = SparkSession.builder \\\n",
    "    .appName(\"NullHandlingExample\") \\\n",
    "    .getOrCreate()\n",
    "from pyspark.sql import SparkSession\n",
    "\n",
    "# إنشاء SparkSession\n",
    "spark = SparkSession.builder \\\n",
    "    .appName(\"NullHandlingExample\") \\\n",
    "    .getOrCreate()\n"
   ]
  },
  {
   "cell_type": "code",
   "execution_count": 2,
   "id": "c5e41b78",
   "metadata": {},
   "outputs": [
    {
     "name": "stderr",
     "output_type": "stream",
     "text": [
      "25/10/29 00:32:02 WARN TextSocketSourceProvider: The socket source should not be used for production applications! It does not support recovery.\n"
     ]
    },
    {
     "data": {
      "text/plain": [
       "DataFrame[value: string]"
      ]
     },
     "execution_count": 2,
     "metadata": {},
     "output_type": "execute_result"
    }
   ],
   "source": [
    "# هنا بنريد  الاستريم من الجهاز عن طريق السوكيت  \n",
    "# ونقدر نعمل كده لو كتبا في التريمينل كده\n",
    "# nc  -l 1412                 -----1412  are port  numberr\n",
    "\n",
    "df=spark.readStream.format('socket')\\\n",
    "    .option('host','localhost')\\\n",
    "        .option('port',1412).load()\n",
    "df"
   ]
  },
  {
   "cell_type": "code",
   "execution_count": null,
   "id": "e980b023",
   "metadata": {},
   "outputs": [
    {
     "name": "stderr",
     "output_type": "stream",
     "text": [
      "25/10/29 00:26:04 WARN TextSocketSourceProvider: The socket source should not be used for production applications! It does not support recovery.\n",
      "25/10/29 00:26:04 WARN ResolveWriteToStream: Temporary checkpoint location created which is deleted normally when the query didn't fail: /tmp/temporary-028c24ff-3004-4840-888a-109e3abcdc14. If it's required to delete it under any circumstances, please set spark.sql.streaming.forceDeleteTempCheckpointLocation to true. Important to know deleting temp checkpoint folder is best effort.\n",
      "25/10/29 00:26:04 WARN ResolveWriteToStream: spark.sql.adaptive.enabled is not supported in streaming DataFrames/Datasets and will be disabled.\n"
     ]
    }
   ],
   "source": [
    "# هنا  بنعمل رايت ل الدااتا وبنعمل تريجر ل عشان يروح يششوف الداتاكل 5 ثوواني \n",
    "writer = df.writeStream.outputMode(\"append\").format(\"console\").trigger(processingTime=\"5 seconds\")\n",
    "#query.awaitTermination()\n",
    "query= writer.start()"
   ]
  },
  {
   "cell_type": "code",
   "execution_count": 21,
   "id": "14653ec7",
   "metadata": {},
   "outputs": [],
   "source": [
    "# لو هنوقف الاستريم \n",
    "#query.stop()"
   ]
  },
  {
   "cell_type": "markdown",
   "id": "73878911",
   "metadata": {},
   "source": [
    "هنعمل مثال كامل \n",
    "---------------\n",
    "===================================================================================================="
   ]
  },
  {
   "cell_type": "code",
   "execution_count": 19,
   "id": "1e19075d",
   "metadata": {},
   "outputs": [
    {
     "name": "stderr",
     "output_type": "stream",
     "text": [
      "25/10/29 00:44:56 WARN TextSocketSourceProvider: The socket source should not be used for production applications! It does not support recovery.\n"
     ]
    }
   ],
   "source": []
  }
 ],
 "metadata": {
  "kernelspec": {
   "display_name": "pyspark_env",
   "language": "python",
   "name": "python3"
  },
  "language_info": {
   "codemirror_mode": {
    "name": "ipython",
    "version": 3
   },
   "file_extension": ".py",
   "mimetype": "text/x-python",
   "name": "python",
   "nbconvert_exporter": "python",
   "pygments_lexer": "ipython3",
   "version": "3.10.18"
  }
 },
 "nbformat": 4,
 "nbformat_minor": 5
}
